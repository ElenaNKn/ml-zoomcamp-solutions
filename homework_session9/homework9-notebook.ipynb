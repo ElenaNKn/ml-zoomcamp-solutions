{
 "cells": [
  {
   "cell_type": "markdown",
   "id": "c37baefb-413b-4b01-91f8-939aff4334bf",
   "metadata": {},
   "source": [
    "# Homework to Session 9. Serverless Deep Learning"
   ]
  },
  {
   "cell_type": "markdown",
   "id": "a78d4bb7-4419-4173-8b21-bfd43034746c",
   "metadata": {},
   "source": [
    "## 1. Install TensorFlow Lite"
   ]
  },
  {
   "cell_type": "code",
   "execution_count": 1,
   "id": "4e522761-ff83-4403-8773-e773191bd851",
   "metadata": {},
   "outputs": [
    {
     "name": "stdout",
     "output_type": "stream",
     "text": [
      "Collecting tflite_runtime\n",
      "  Downloading tflite_runtime-2.10.0-cp37-cp37m-manylinux2014_x86_64.whl (2.5 MB)\n",
      "\u001b[2K     \u001b[90m━━━━━━━━━━━━━━━━━━━━━━━━━━━━━━━━━━━━━━━━\u001b[0m \u001b[32m2.5/2.5 MB\u001b[0m \u001b[31m65.1 MB/s\u001b[0m eta \u001b[36m0:00:00\u001b[0m00:01\u001b[0m\n",
      "\u001b[?25hRequirement already satisfied: numpy>=1.19.2 in /opt/conda/lib/python3.7/site-packages (from tflite_runtime) (1.21.6)\n",
      "Installing collected packages: tflite_runtime\n",
      "Successfully installed tflite_runtime-2.10.0\n"
     ]
    }
   ],
   "source": [
    "! pip install tflite_runtime"
   ]
  },
  {
   "cell_type": "markdown",
   "id": "9af7150e-9880-46d5-836b-fce956a1a154",
   "metadata": {},
   "source": [
    "## 2. Loading initial model and converting to \\*.tflite format"
   ]
  },
  {
   "cell_type": "code",
   "execution_count": 4,
   "id": "9254fe00-881d-409a-8006-e404e958ea14",
   "metadata": {},
   "outputs": [],
   "source": [
    "import urllib.request\n",
    "import tensorflow as tf\n",
    "from tensorflow import keras"
   ]
  },
  {
   "cell_type": "code",
   "execution_count": 5,
   "id": "9b4ee941-0d59-409c-bf50-72b1b7de1a51",
   "metadata": {},
   "outputs": [
    {
     "data": {
      "text/plain": [
       "('dino_dragon_10_0.899.h5', <http.client.HTTPMessage at 0x7fa1f43f9a10>)"
      ]
     },
     "execution_count": 5,
     "metadata": {},
     "output_type": "execute_result"
    }
   ],
   "source": [
    "url = 'https://github.com/SVizor42/ML_Zoomcamp/releases/download/dino-dragon-model/dino_dragon_10_0.899.h5'\n",
    "filename = 'dino_dragon_10_0.899.h5'\n",
    "urllib.request.urlretrieve(url, filename)"
   ]
  },
  {
   "cell_type": "code",
   "execution_count": 6,
   "id": "30d8e044-206e-41ab-a014-8afa6c750c32",
   "metadata": {},
   "outputs": [
    {
     "name": "stderr",
     "output_type": "stream",
     "text": [
      "2022-11-27 20:16:04.561980: I tensorflow/stream_executor/cuda/cuda_gpu_executor.cc:936] successful NUMA node read from SysFS had negative value (-1), but there must be at least one NUMA node, so returning NUMA node zero\n",
      "2022-11-27 20:16:04.699025: I tensorflow/stream_executor/cuda/cuda_gpu_executor.cc:936] successful NUMA node read from SysFS had negative value (-1), but there must be at least one NUMA node, so returning NUMA node zero\n",
      "2022-11-27 20:16:04.700864: I tensorflow/stream_executor/cuda/cuda_gpu_executor.cc:936] successful NUMA node read from SysFS had negative value (-1), but there must be at least one NUMA node, so returning NUMA node zero\n",
      "2022-11-27 20:16:04.704132: I tensorflow/core/platform/cpu_feature_guard.cc:151] This TensorFlow binary is optimized with oneAPI Deep Neural Network Library (oneDNN) to use the following CPU instructions in performance-critical operations:  AVX2 AVX512F FMA\n",
      "To enable them in other operations, rebuild TensorFlow with the appropriate compiler flags.\n",
      "2022-11-27 20:16:04.705321: I tensorflow/stream_executor/cuda/cuda_gpu_executor.cc:936] successful NUMA node read from SysFS had negative value (-1), but there must be at least one NUMA node, so returning NUMA node zero\n",
      "2022-11-27 20:16:04.707205: I tensorflow/stream_executor/cuda/cuda_gpu_executor.cc:936] successful NUMA node read from SysFS had negative value (-1), but there must be at least one NUMA node, so returning NUMA node zero\n",
      "2022-11-27 20:16:04.708913: I tensorflow/stream_executor/cuda/cuda_gpu_executor.cc:936] successful NUMA node read from SysFS had negative value (-1), but there must be at least one NUMA node, so returning NUMA node zero\n",
      "2022-11-27 20:16:06.344582: I tensorflow/stream_executor/cuda/cuda_gpu_executor.cc:936] successful NUMA node read from SysFS had negative value (-1), but there must be at least one NUMA node, so returning NUMA node zero\n",
      "2022-11-27 20:16:06.346639: I tensorflow/stream_executor/cuda/cuda_gpu_executor.cc:936] successful NUMA node read from SysFS had negative value (-1), but there must be at least one NUMA node, so returning NUMA node zero\n",
      "2022-11-27 20:16:06.348385: I tensorflow/stream_executor/cuda/cuda_gpu_executor.cc:936] successful NUMA node read from SysFS had negative value (-1), but there must be at least one NUMA node, so returning NUMA node zero\n",
      "2022-11-27 20:16:06.351025: I tensorflow/core/common_runtime/gpu/gpu_device.cc:1525] Created device /job:localhost/replica:0/task:0/device:GPU:0 with 13598 MB memory:  -> device: 0, name: Tesla T4, pci bus id: 0000:00:04.0, compute capability: 7.5\n"
     ]
    }
   ],
   "source": [
    "model = keras.models.load_model('dino_dragon_10_0.899.h5')"
   ]
  },
  {
   "cell_type": "code",
   "execution_count": 7,
   "id": "79e5b6fe-e9ba-4856-92a4-9418d39d94c6",
   "metadata": {},
   "outputs": [
    {
     "name": "stderr",
     "output_type": "stream",
     "text": [
      "2022-11-27 20:16:18.030126: W tensorflow/python/util/util.cc:368] Sets are not currently considered sequences, but this may change in the future, so consider avoiding using them.\n"
     ]
    },
    {
     "name": "stdout",
     "output_type": "stream",
     "text": [
      "INFO:tensorflow:Assets written to: /tmp/tmp59u04wv7/assets\n"
     ]
    },
    {
     "name": "stderr",
     "output_type": "stream",
     "text": [
      "2022-11-27 20:16:18.884680: W tensorflow/compiler/mlir/lite/python/tf_tfl_flatbuffer_helpers.cc:357] Ignored output_format.\n",
      "2022-11-27 20:16:18.884729: W tensorflow/compiler/mlir/lite/python/tf_tfl_flatbuffer_helpers.cc:360] Ignored drop_control_dependency.\n",
      "2022-11-27 20:16:18.885690: I tensorflow/cc/saved_model/reader.cc:43] Reading SavedModel from: /tmp/tmp59u04wv7\n",
      "2022-11-27 20:16:18.888783: I tensorflow/cc/saved_model/reader.cc:78] Reading meta graph with tags { serve }\n",
      "2022-11-27 20:16:18.888836: I tensorflow/cc/saved_model/reader.cc:119] Reading SavedModel debug info (if present) from: /tmp/tmp59u04wv7\n",
      "2022-11-27 20:16:18.896702: I tensorflow/cc/saved_model/loader.cc:228] Restoring SavedModel bundle.\n",
      "2022-11-27 20:16:19.017062: I tensorflow/cc/saved_model/loader.cc:212] Running initialization op on SavedModel bundle at path: /tmp/tmp59u04wv7\n",
      "2022-11-27 20:16:19.030677: I tensorflow/cc/saved_model/loader.cc:301] SavedModel load for tags { serve }; Status: success: OK. Took 145013 microseconds.\n",
      "2022-11-27 20:16:19.059937: I tensorflow/compiler/mlir/tensorflow/utils/dump_mlir_util.cc:237] disabling MLIR crash reproducer, set env var `MLIR_CRASH_REPRODUCER_DIRECTORY` to enable.\n"
     ]
    }
   ],
   "source": [
    "converter = tf.lite.TFLiteConverter.from_keras_model(model)\n",
    "\n",
    "tflite_model = converter.convert()\n",
    "\n",
    "with open('dino-dragon-model.tflite', 'wb') as f_out:\n",
    "    f_out.write(tflite_model)"
   ]
  },
  {
   "cell_type": "markdown",
   "id": "7e3858c0-dc41-46ee-9605-ad09c7c454a6",
   "metadata": {},
   "source": [
    "### Q1. What's the size of the converted model?"
   ]
  },
  {
   "cell_type": "markdown",
   "id": "b3ee0fa3-1f15-4dd9-b98b-256d4b3eff03",
   "metadata": {},
   "source": [
    "Answer: 43 Mb (closest to 42.8 Mb)"
   ]
  },
  {
   "cell_type": "markdown",
   "id": "a67f9c15-e61d-4b80-afda-19b6af310318",
   "metadata": {},
   "source": [
    "## 3. Load \\*.tflite model"
   ]
  },
  {
   "cell_type": "code",
   "execution_count": 1,
   "id": "bb21136b-6ec8-43c9-a0fa-bddfa35a6abd",
   "metadata": {},
   "outputs": [],
   "source": [
    "import tflite_runtime.interpreter as tflite"
   ]
  },
  {
   "cell_type": "code",
   "execution_count": 2,
   "id": "85950a89-b692-4fb7-bbec-8df735b1afee",
   "metadata": {},
   "outputs": [
    {
     "name": "stderr",
     "output_type": "stream",
     "text": [
      "INFO: Created TensorFlow Lite XNNPACK delegate for CPU.\n"
     ]
    }
   ],
   "source": [
    "interpreter = tflite.Interpreter(model_path='dino-dragon-model.tflite')\n",
    "interpreter.allocate_tensors()\n",
    "\n",
    "input_index = interpreter.get_input_details()[0]['index']\n",
    "output_index = interpreter.get_output_details()[0]['index']"
   ]
  },
  {
   "cell_type": "markdown",
   "id": "3b052748-c76b-467f-ac6a-d29fcc5ba985",
   "metadata": {},
   "source": [
    "### Q2. What's the output index for this model?"
   ]
  },
  {
   "cell_type": "code",
   "execution_count": 3,
   "id": "f3013507-ef21-420e-ae65-564bb7573c62",
   "metadata": {},
   "outputs": [
    {
     "data": {
      "text/plain": [
       "13"
      ]
     },
     "execution_count": 3,
     "metadata": {},
     "output_type": "execute_result"
    }
   ],
   "source": [
    "output_index"
   ]
  },
  {
   "cell_type": "markdown",
   "id": "5a72344a-a95c-4f64-a708-95d444671702",
   "metadata": {},
   "source": [
    "Answer: 13"
   ]
  },
  {
   "cell_type": "markdown",
   "id": "d316cd66-54a1-46d1-8ce0-66db60bb868b",
   "metadata": {},
   "source": [
    "## 4. Load and preprocess image to predict"
   ]
  },
  {
   "cell_type": "code",
   "execution_count": 4,
   "id": "a391516b-31c6-457c-9002-dd649e3d3601",
   "metadata": {},
   "outputs": [
    {
     "name": "stdout",
     "output_type": "stream",
     "text": [
      "Requirement already satisfied: pillow in /opt/conda/lib/python3.7/site-packages (9.2.0)\n"
     ]
    }
   ],
   "source": [
    "! pip install pillow"
   ]
  },
  {
   "cell_type": "code",
   "execution_count": 4,
   "id": "30877813-ec4c-4adf-9850-3a7d666ae8ff",
   "metadata": {},
   "outputs": [],
   "source": [
    "import numpy as np"
   ]
  },
  {
   "cell_type": "code",
   "execution_count": 17,
   "id": "037db5e8-1b36-463d-ad8f-550ba283f90b",
   "metadata": {},
   "outputs": [],
   "source": [
    "from io import BytesIO\n",
    "from urllib import request\n",
    "\n",
    "from PIL import Image\n",
    "\n",
    "def download_image(url):\n",
    "    with request.urlopen(url) as resp:\n",
    "        buffer = resp.read()\n",
    "    stream = BytesIO(buffer)\n",
    "    img = Image.open(stream)\n",
    "    return img\n",
    "\n",
    "\n",
    "def prepare_image(img, target_size):\n",
    "    if img.mode != 'RGB':\n",
    "        img = img.convert('RGB')\n",
    "    img = img.resize(target_size, Image.NEAREST)\n",
    "    return img\n",
    "\n",
    "def preprocess_image(x):\n",
    "    x = np.true_divide(x, 255, dtype=np.float32)    # same as \"x /= 255\"\n",
    "    return x"
   ]
  },
  {
   "cell_type": "code",
   "execution_count": 18,
   "id": "b8a16c0a-2620-434f-ac76-624cb7d80360",
   "metadata": {},
   "outputs": [],
   "source": [
    "# load an image\n",
    "\n",
    "url = 'https://upload.wikimedia.org/wikipedia/commons/thumb/d/df/Smaug_par_David_Demaret.jpg/1280px-Smaug_par_David_Demaret.jpg'\n",
    "img = download_image(url)"
   ]
  },
  {
   "cell_type": "code",
   "execution_count": 19,
   "id": "0d72b844-ac37-4663-9e5a-db03b947d67a",
   "metadata": {},
   "outputs": [
    {
     "name": "stderr",
     "output_type": "stream",
     "text": [
      "/opt/conda/lib/python3.7/site-packages/ipykernel_launcher.py:17: DeprecationWarning: NEAREST is deprecated and will be removed in Pillow 10 (2023-07-01). Use Resampling.NEAREST or Dither.NONE instead.\n",
      "  app.launch_new_instance()\n"
     ]
    }
   ],
   "source": [
    "# prepare image (rescale)\n",
    "\n",
    "target_size = 150\n",
    "img = prepare_image(img, (target_size, 150))\n",
    "\n",
    "# preprocess image\n",
    "\n",
    "x = np.array(img, dtype='float32')\n",
    "X = np.array([x])\n",
    "X = preprocess_image(X)"
   ]
  },
  {
   "cell_type": "markdown",
   "id": "acaa5e27-89c5-48fc-a458-b503b4d4fc80",
   "metadata": {},
   "source": [
    "### Q3. After the pre-processing, what's the value in the first pixel, the R channel?"
   ]
  },
  {
   "cell_type": "code",
   "execution_count": 20,
   "id": "61db112f-7a05-4f6a-92dc-d246ce9cd71f",
   "metadata": {},
   "outputs": [
    {
     "data": {
      "text/plain": [
       "array([0.5529412 , 0.31764707, 0.1764706 ], dtype=float32)"
      ]
     },
     "execution_count": 20,
     "metadata": {},
     "output_type": "execute_result"
    }
   ],
   "source": [
    "# RGB-values for 1-st pixel\n",
    "\n",
    "X[0][0][0]"
   ]
  },
  {
   "cell_type": "markdown",
   "id": "a5b0b209-3854-4715-9ae4-b0218e34784f",
   "metadata": {},
   "source": [
    "Answer: 0.5529412"
   ]
  },
  {
   "cell_type": "markdown",
   "id": "bd621314-5230-4c62-9476-9bcede17ba90",
   "metadata": {},
   "source": [
    "## 5. Prediction"
   ]
  },
  {
   "cell_type": "markdown",
   "id": "98a9ee53-1c3c-483f-a9cb-1fb95bfc6735",
   "metadata": {},
   "source": [
    "### Q4. Now let's apply this model to this image. What's the output of the model?"
   ]
  },
  {
   "cell_type": "code",
   "execution_count": 21,
   "id": "9dd60818-462e-4d6d-bd58-7b5cc020d334",
   "metadata": {},
   "outputs": [],
   "source": [
    "import tflite_runtime.interpreter as tflite"
   ]
  },
  {
   "cell_type": "code",
   "execution_count": 22,
   "id": "2dee7fb4-153c-42ac-81db-8517b03e4d58",
   "metadata": {},
   "outputs": [
    {
     "data": {
      "text/plain": [
       "array([[0.82448614]], dtype=float32)"
      ]
     },
     "execution_count": 22,
     "metadata": {},
     "output_type": "execute_result"
    }
   ],
   "source": [
    "interpreter.set_tensor(input_index, X)\n",
    "interpreter.invoke()\n",
    "preds = interpreter.get_tensor(output_index)\n",
    "\n",
    "preds"
   ]
  },
  {
   "cell_type": "code",
   "execution_count": 27,
   "id": "6d3139a3-1c1a-4f1d-8378-bde54ac663a4",
   "metadata": {},
   "outputs": [
    {
     "name": "stdout",
     "output_type": "stream",
     "text": [
      "dragon\n"
     ]
    }
   ],
   "source": [
    "if preds[0][0] <= 0.5:\n",
    "    print('dino')\n",
    "else:\n",
    "    print('dragon')"
   ]
  },
  {
   "cell_type": "markdown",
   "id": "ff9d2cbb-a544-4e0d-a14d-4cae7520ab1a",
   "metadata": {},
   "source": [
    "Answer: 0.82448614"
   ]
  },
  {
   "cell_type": "markdown",
   "id": "6d6e97ad-ea86-4c7a-83e8-33690ba02e78",
   "metadata": {},
   "source": [
    "## 6. Convert a notebook to script"
   ]
  },
  {
   "cell_type": "code",
   "execution_count": 29,
   "id": "fbebc9e3-2cf1-4474-b799-fe3ce9f0e184",
   "metadata": {},
   "outputs": [
    {
     "name": "stdout",
     "output_type": "stream",
     "text": [
      "[NbConvertApp] Converting notebook homework9-notebook.ipynb to script\n",
      "[NbConvertApp] Writing 2918 bytes to homework9-notebook.py\n"
     ]
    }
   ],
   "source": [
    "! jupyter nbconvert --to script homework9-notebook.ipynb"
   ]
  },
  {
   "cell_type": "code",
   "execution_count": null,
   "id": "dfd35a87-a5b0-448e-802c-4fdd9601e831",
   "metadata": {},
   "outputs": [],
   "source": []
  }
 ],
 "metadata": {
  "environment": {
   "kernel": "python3",
   "name": "tf2-gpu.2-8.m100",
   "type": "gcloud",
   "uri": "gcr.io/deeplearning-platform-release/tf2-gpu.2-8:m100"
  },
  "kernelspec": {
   "display_name": "Python 3",
   "language": "python",
   "name": "python3"
  },
  "language_info": {
   "codemirror_mode": {
    "name": "ipython",
    "version": 3
   },
   "file_extension": ".py",
   "mimetype": "text/x-python",
   "name": "python",
   "nbconvert_exporter": "python",
   "pygments_lexer": "ipython3",
   "version": "3.7.12"
  }
 },
 "nbformat": 4,
 "nbformat_minor": 5
}
