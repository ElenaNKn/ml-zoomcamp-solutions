{
 "cells": [
  {
   "cell_type": "markdown",
   "id": "f594609e",
   "metadata": {},
   "source": [
    "# Project description"
   ]
  },
  {
   "cell_type": "markdown",
   "id": "eeae4e7d",
   "metadata": {},
   "source": [
    "Dataset source is: https://www.kaggle.com/datasets/andrewmvd/udemy-courses\n",
    "This dataset contains 3.678 records of courses from 4 subjects (Business Finance, Graphic Design, Musical Instruments and Web Design) taken from Udemy."
   ]
  },
  {
   "cell_type": "markdown",
   "id": "4c99e9cc",
   "metadata": {},
   "source": [
    "Aim of the project is to build a model for prediction of course popularity (averaged number of subscribers per day). It is a classification problem: \"1\" - the course is popular; \"0\" - the course isn't popular"
   ]
  },
  {
   "cell_type": "markdown",
   "id": "a08f6a0a",
   "metadata": {},
   "source": [
    "The project contains EDA of a dataset, ML classifiers models (linear regression and decision tree based) with parameters tuning. The best model is selected on the base of ROC-AUC score values."
   ]
  },
  {
   "cell_type": "markdown",
   "id": "887f9e87",
   "metadata": {},
   "source": [
    "# 1. Imports and loading data"
   ]
  },
  {
   "cell_type": "code",
   "execution_count": 1,
   "id": "77074c88",
   "metadata": {},
   "outputs": [],
   "source": [
    "import urllib.request\n",
    "import pandas as pd\n",
    "import numpy as np\n",
    "import datetime\n",
    "from sklearn.model_selection import train_test_split\n",
    "from sklearn.metrics import mutual_info_score\n",
    "from sklearn.feature_extraction import DictVectorizer\n",
    "import seaborn as sns\n",
    "\n",
    "from matplotlib import pyplot as plt\n",
    "%matplotlib inline"
   ]
  },
  {
   "cell_type": "code",
   "execution_count": 2,
   "id": "1771c374",
   "metadata": {},
   "outputs": [
    {
     "data": {
      "text/plain": [
       "('udemy_courses.csv', <http.client.HTTPMessage at 0x2047bd00250>)"
      ]
     },
     "execution_count": 2,
     "metadata": {},
     "output_type": "execute_result"
    }
   ],
   "source": [
    "url = 'https://raw.githubusercontent.com/ElenaNKn/ml-zoomcamp-solutions/master/midterm_project_binary_classification/udemy_courses.csv'\n",
    "filename = 'udemy_courses.csv'\n",
    "urllib.request.urlretrieve(url, filename)"
   ]
  },
  {
   "cell_type": "code",
   "execution_count": 3,
   "id": "0960c746",
   "metadata": {},
   "outputs": [],
   "source": [
    "df = pd.read_csv('udemy_courses.csv', header=0, sep=',')"
   ]
  },
  {
   "cell_type": "markdown",
   "id": "64c71d33",
   "metadata": {},
   "source": [
    "# 2. Data cleaning and data preparation"
   ]
  },
  {
   "cell_type": "code",
   "execution_count": 4,
   "id": "e592df91",
   "metadata": {},
   "outputs": [
    {
     "data": {
      "text/html": [
       "<div>\n",
       "<style scoped>\n",
       "    .dataframe tbody tr th:only-of-type {\n",
       "        vertical-align: middle;\n",
       "    }\n",
       "\n",
       "    .dataframe tbody tr th {\n",
       "        vertical-align: top;\n",
       "    }\n",
       "\n",
       "    .dataframe thead th {\n",
       "        text-align: right;\n",
       "    }\n",
       "</style>\n",
       "<table border=\"1\" class=\"dataframe\">\n",
       "  <thead>\n",
       "    <tr style=\"text-align: right;\">\n",
       "      <th></th>\n",
       "      <th>course_id</th>\n",
       "      <th>course_title</th>\n",
       "      <th>url</th>\n",
       "      <th>is_paid</th>\n",
       "      <th>price</th>\n",
       "      <th>num_subscribers</th>\n",
       "      <th>num_reviews</th>\n",
       "      <th>num_lectures</th>\n",
       "      <th>level</th>\n",
       "      <th>content_duration</th>\n",
       "      <th>published_timestamp</th>\n",
       "      <th>subject</th>\n",
       "    </tr>\n",
       "  </thead>\n",
       "  <tbody>\n",
       "    <tr>\n",
       "      <th>0</th>\n",
       "      <td>1070968</td>\n",
       "      <td>Ultimate Investment Banking Course</td>\n",
       "      <td>https://www.udemy.com/ultimate-investment-bank...</td>\n",
       "      <td>True</td>\n",
       "      <td>200</td>\n",
       "      <td>2147</td>\n",
       "      <td>23</td>\n",
       "      <td>51</td>\n",
       "      <td>All Levels</td>\n",
       "      <td>1.5</td>\n",
       "      <td>2017-01-18T20:58:58Z</td>\n",
       "      <td>Business Finance</td>\n",
       "    </tr>\n",
       "    <tr>\n",
       "      <th>1</th>\n",
       "      <td>1113822</td>\n",
       "      <td>Complete GST Course &amp; Certification - Grow You...</td>\n",
       "      <td>https://www.udemy.com/goods-and-services-tax/</td>\n",
       "      <td>True</td>\n",
       "      <td>75</td>\n",
       "      <td>2792</td>\n",
       "      <td>923</td>\n",
       "      <td>274</td>\n",
       "      <td>All Levels</td>\n",
       "      <td>39.0</td>\n",
       "      <td>2017-03-09T16:34:20Z</td>\n",
       "      <td>Business Finance</td>\n",
       "    </tr>\n",
       "    <tr>\n",
       "      <th>2</th>\n",
       "      <td>1006314</td>\n",
       "      <td>Financial Modeling for Business Analysts and C...</td>\n",
       "      <td>https://www.udemy.com/financial-modeling-for-b...</td>\n",
       "      <td>True</td>\n",
       "      <td>45</td>\n",
       "      <td>2174</td>\n",
       "      <td>74</td>\n",
       "      <td>51</td>\n",
       "      <td>Intermediate Level</td>\n",
       "      <td>2.5</td>\n",
       "      <td>2016-12-19T19:26:30Z</td>\n",
       "      <td>Business Finance</td>\n",
       "    </tr>\n",
       "    <tr>\n",
       "      <th>3</th>\n",
       "      <td>1210588</td>\n",
       "      <td>Beginner to Pro - Financial Analysis in Excel ...</td>\n",
       "      <td>https://www.udemy.com/complete-excel-finance-c...</td>\n",
       "      <td>True</td>\n",
       "      <td>95</td>\n",
       "      <td>2451</td>\n",
       "      <td>11</td>\n",
       "      <td>36</td>\n",
       "      <td>All Levels</td>\n",
       "      <td>3.0</td>\n",
       "      <td>2017-05-30T20:07:24Z</td>\n",
       "      <td>Business Finance</td>\n",
       "    </tr>\n",
       "    <tr>\n",
       "      <th>4</th>\n",
       "      <td>1011058</td>\n",
       "      <td>How To Maximize Your Profits Trading Options</td>\n",
       "      <td>https://www.udemy.com/how-to-maximize-your-pro...</td>\n",
       "      <td>True</td>\n",
       "      <td>200</td>\n",
       "      <td>1276</td>\n",
       "      <td>45</td>\n",
       "      <td>26</td>\n",
       "      <td>Intermediate Level</td>\n",
       "      <td>2.0</td>\n",
       "      <td>2016-12-13T14:57:18Z</td>\n",
       "      <td>Business Finance</td>\n",
       "    </tr>\n",
       "  </tbody>\n",
       "</table>\n",
       "</div>"
      ],
      "text/plain": [
       "   course_id                                       course_title  \\\n",
       "0    1070968                 Ultimate Investment Banking Course   \n",
       "1    1113822  Complete GST Course & Certification - Grow You...   \n",
       "2    1006314  Financial Modeling for Business Analysts and C...   \n",
       "3    1210588  Beginner to Pro - Financial Analysis in Excel ...   \n",
       "4    1011058       How To Maximize Your Profits Trading Options   \n",
       "\n",
       "                                                 url  is_paid  price  \\\n",
       "0  https://www.udemy.com/ultimate-investment-bank...     True    200   \n",
       "1      https://www.udemy.com/goods-and-services-tax/     True     75   \n",
       "2  https://www.udemy.com/financial-modeling-for-b...     True     45   \n",
       "3  https://www.udemy.com/complete-excel-finance-c...     True     95   \n",
       "4  https://www.udemy.com/how-to-maximize-your-pro...     True    200   \n",
       "\n",
       "   num_subscribers  num_reviews  num_lectures               level  \\\n",
       "0             2147           23            51          All Levels   \n",
       "1             2792          923           274          All Levels   \n",
       "2             2174           74            51  Intermediate Level   \n",
       "3             2451           11            36          All Levels   \n",
       "4             1276           45            26  Intermediate Level   \n",
       "\n",
       "   content_duration   published_timestamp           subject  \n",
       "0               1.5  2017-01-18T20:58:58Z  Business Finance  \n",
       "1              39.0  2017-03-09T16:34:20Z  Business Finance  \n",
       "2               2.5  2016-12-19T19:26:30Z  Business Finance  \n",
       "3               3.0  2017-05-30T20:07:24Z  Business Finance  \n",
       "4               2.0  2016-12-13T14:57:18Z  Business Finance  "
      ]
     },
     "execution_count": 4,
     "metadata": {},
     "output_type": "execute_result"
    }
   ],
   "source": [
    "df.head()"
   ]
  },
  {
   "cell_type": "code",
   "execution_count": 5,
   "id": "fe245ea8",
   "metadata": {},
   "outputs": [
    {
     "data": {
      "text/plain": [
       "course_id              0\n",
       "course_title           0\n",
       "url                    0\n",
       "is_paid                0\n",
       "price                  0\n",
       "num_subscribers        0\n",
       "num_reviews            0\n",
       "num_lectures           0\n",
       "level                  0\n",
       "content_duration       0\n",
       "published_timestamp    0\n",
       "subject                0\n",
       "dtype: int64"
      ]
     },
     "execution_count": 5,
     "metadata": {},
     "output_type": "execute_result"
    }
   ],
   "source": [
    "df.isnull().sum()   # checking for missing values"
   ]
  },
  {
   "cell_type": "code",
   "execution_count": 6,
   "id": "1fd11e03",
   "metadata": {},
   "outputs": [
    {
     "data": {
      "text/plain": [
       "course_id                int64\n",
       "course_title            object\n",
       "url                     object\n",
       "is_paid                   bool\n",
       "price                    int64\n",
       "num_subscribers          int64\n",
       "num_reviews              int64\n",
       "num_lectures             int64\n",
       "level                   object\n",
       "content_duration       float64\n",
       "published_timestamp     object\n",
       "subject                 object\n",
       "dtype: object"
      ]
     },
     "execution_count": 6,
     "metadata": {},
     "output_type": "execute_result"
    }
   ],
   "source": [
    "df.dtypes    # checking types of columns"
   ]
  },
  {
   "cell_type": "code",
   "execution_count": 7,
   "id": "20830e25",
   "metadata": {},
   "outputs": [
    {
     "data": {
      "text/plain": [
       "yes    3368\n",
       "no      310\n",
       "Name: is_paid, dtype: int64"
      ]
     },
     "execution_count": 7,
     "metadata": {},
     "output_type": "execute_result"
    }
   ],
   "source": [
    "# convert \"is_paid\" from boolean to categorical variable\n",
    "df['is_paid'] = df['is_paid'].map({True: 'yes', False: 'no'}) \n",
    "df.is_paid.value_counts()   # explore values of \"is_paid\" column"
   ]
  },
  {
   "cell_type": "code",
   "execution_count": 8,
   "id": "9c17627c",
   "metadata": {},
   "outputs": [
    {
     "data": {
      "text/plain": [
       "All Levels            1929\n",
       "Beginner Level        1270\n",
       "Intermediate Level     421\n",
       "Expert Level            58\n",
       "Name: level, dtype: int64"
      ]
     },
     "execution_count": 8,
     "metadata": {},
     "output_type": "execute_result"
    }
   ],
   "source": [
    "df.level.value_counts()   # explore values of \"level\" column"
   ]
  },
  {
   "cell_type": "code",
   "execution_count": 9,
   "id": "7c1881df",
   "metadata": {},
   "outputs": [
    {
     "data": {
      "text/plain": [
       "Web Development        1200\n",
       "Business Finance       1195\n",
       "Musical Instruments     680\n",
       "Graphic Design          603\n",
       "Name: subject, dtype: int64"
      ]
     },
     "execution_count": 9,
     "metadata": {},
     "output_type": "execute_result"
    }
   ],
   "source": [
    "df.subject.value_counts()    # explore values of \"subject\" column"
   ]
  },
  {
   "cell_type": "markdown",
   "id": "fe35f955",
   "metadata": {},
   "source": [
    "In this project a **popularity** of a course is defined as a ratio of a number of subscribers to an age of a course. An **age** of a course is defined as difference between time of uploading of a course (published_timestamp) and date of data scraping (2020/05/10). In this analysis we'll replace column \"published_timestamp\" with new column \"age\"."
   ]
  },
  {
   "cell_type": "code",
   "execution_count": 10,
   "id": "903d056c",
   "metadata": {},
   "outputs": [],
   "source": [
    "# create a column of an age of a course (in days)\n",
    "\n",
    "df.published_timestamp = pd.to_datetime(df.published_timestamp).dt.date\n",
    "scrap_date = datetime.datetime(2020, 5, 10).date()\n",
    "df['age'] = [(scrap_date - y) for y in df['published_timestamp']]\n",
    "df.age = df.age.astype(str).str.strip('days').astype(int)"
   ]
  },
  {
   "cell_type": "code",
   "execution_count": 11,
   "id": "2fd463e7",
   "metadata": {},
   "outputs": [],
   "source": [
    "# create a column \"popularity\", which is equal to \"num_subscribers/age\"\n",
    "\n",
    "df['popularity'] = df.num_subscribers / df.age"
   ]
  },
  {
   "cell_type": "code",
   "execution_count": 12,
   "id": "abf39d7f",
   "metadata": {},
   "outputs": [
    {
     "data": {
      "image/png": "[encoded data removed]",
      "text/plain": [
       "<Figure size 600x400 with 1 Axes>"
      ]
     },
     "metadata": {},
     "output_type": "display_data"
    }
   ],
   "source": [
    "# explore a distribution of \"popularity\"\n",
    "plt.figure(figsize=(6, 4))\n",
    "\n",
    "sns.histplot(df.popularity, bins=40, color='blue', alpha=1)\n",
    "plt.ylabel('Frequency')\n",
    "plt.xlabel('Popularity')\n",
    "plt.title('Distribution of popularity')\n",
    "\n",
    "plt.show()"
   ]
  },
  {
   "cell_type": "markdown",
   "id": "108d78c7",
   "metadata": {},
   "source": [
    "We see that there's a long tail after popularity=40. Let's checkout how many observation has popularity value greater than 40"
   ]
  },
  {
   "cell_type": "code",
   "execution_count": 13,
   "id": "68a713de",
   "metadata": {},
   "outputs": [
    {
     "data": {
      "text/html": [
       "<div>\n",
       "<style scoped>\n",
       "    .dataframe tbody tr th:only-of-type {\n",
       "        vertical-align: middle;\n",
       "    }\n",
       "\n",
       "    .dataframe tbody tr th {\n",
       "        vertical-align: top;\n",
       "    }\n",
       "\n",
       "    .dataframe thead th {\n",
       "        text-align: right;\n",
       "    }\n",
       "</style>\n",
       "<table border=\"1\" class=\"dataframe\">\n",
       "  <thead>\n",
       "    <tr style=\"text-align: right;\">\n",
       "      <th></th>\n",
       "      <th>course_id</th>\n",
       "      <th>course_title</th>\n",
       "      <th>url</th>\n",
       "      <th>is_paid</th>\n",
       "      <th>price</th>\n",
       "      <th>num_subscribers</th>\n",
       "      <th>num_reviews</th>\n",
       "      <th>num_lectures</th>\n",
       "      <th>level</th>\n",
       "      <th>content_duration</th>\n",
       "      <th>published_timestamp</th>\n",
       "      <th>subject</th>\n",
       "      <th>age</th>\n",
       "      <th>popularity</th>\n",
       "    </tr>\n",
       "  </thead>\n",
       "  <tbody>\n",
       "    <tr>\n",
       "      <th>2589</th>\n",
       "      <td>473160</td>\n",
       "      <td>Web Design for Web Developers: Build Beautiful...</td>\n",
       "      <td>https://www.udemy.com/web-design-secrets/</td>\n",
       "      <td>no</td>\n",
       "      <td>0</td>\n",
       "      <td>98867</td>\n",
       "      <td>6512</td>\n",
       "      <td>20</td>\n",
       "      <td>All Levels</td>\n",
       "      <td>3.0</td>\n",
       "      <td>2015-04-13</td>\n",
       "      <td>Web Development</td>\n",
       "      <td>1854</td>\n",
       "      <td>53.326321</td>\n",
       "    </tr>\n",
       "    <tr>\n",
       "      <th>2783</th>\n",
       "      <td>173548</td>\n",
       "      <td>Build Your First Website in 1 Week with HTML5 ...</td>\n",
       "      <td>https://www.udemy.com/build-your-first-website...</td>\n",
       "      <td>no</td>\n",
       "      <td>0</td>\n",
       "      <td>120291</td>\n",
       "      <td>5924</td>\n",
       "      <td>30</td>\n",
       "      <td>Beginner Level</td>\n",
       "      <td>3.0</td>\n",
       "      <td>2014-04-08</td>\n",
       "      <td>Web Development</td>\n",
       "      <td>2224</td>\n",
       "      <td>54.087680</td>\n",
       "    </tr>\n",
       "    <tr>\n",
       "      <th>2827</th>\n",
       "      <td>41295</td>\n",
       "      <td>Learn HTML5 Programming From Scratch</td>\n",
       "      <td>https://www.udemy.com/learn-html5-programming-...</td>\n",
       "      <td>no</td>\n",
       "      <td>0</td>\n",
       "      <td>268923</td>\n",
       "      <td>8629</td>\n",
       "      <td>45</td>\n",
       "      <td>All Levels</td>\n",
       "      <td>10.5</td>\n",
       "      <td>2013-02-14</td>\n",
       "      <td>Web Development</td>\n",
       "      <td>2642</td>\n",
       "      <td>101.787661</td>\n",
       "    </tr>\n",
       "    <tr>\n",
       "      <th>3032</th>\n",
       "      <td>59014</td>\n",
       "      <td>Coding for Entrepreneurs Basic</td>\n",
       "      <td>https://www.udemy.com/coding-for-entrepreneurs...</td>\n",
       "      <td>no</td>\n",
       "      <td>0</td>\n",
       "      <td>161029</td>\n",
       "      <td>279</td>\n",
       "      <td>27</td>\n",
       "      <td>Beginner Level</td>\n",
       "      <td>3.5</td>\n",
       "      <td>2013-06-09</td>\n",
       "      <td>Web Development</td>\n",
       "      <td>2527</td>\n",
       "      <td>63.723387</td>\n",
       "    </tr>\n",
       "    <tr>\n",
       "      <th>3204</th>\n",
       "      <td>756150</td>\n",
       "      <td>Angular 4 (formerly Angular 2) - The Complete ...</td>\n",
       "      <td>https://www.udemy.com/the-complete-guide-to-an...</td>\n",
       "      <td>yes</td>\n",
       "      <td>190</td>\n",
       "      <td>73783</td>\n",
       "      <td>19649</td>\n",
       "      <td>329</td>\n",
       "      <td>All Levels</td>\n",
       "      <td>22.0</td>\n",
       "      <td>2016-02-11</td>\n",
       "      <td>Web Development</td>\n",
       "      <td>1550</td>\n",
       "      <td>47.601935</td>\n",
       "    </tr>\n",
       "    <tr>\n",
       "      <th>3230</th>\n",
       "      <td>625204</td>\n",
       "      <td>The Web Developer Bootcamp</td>\n",
       "      <td>https://www.udemy.com/the-web-developer-bootcamp/</td>\n",
       "      <td>yes</td>\n",
       "      <td>200</td>\n",
       "      <td>121584</td>\n",
       "      <td>27445</td>\n",
       "      <td>342</td>\n",
       "      <td>All Levels</td>\n",
       "      <td>43.0</td>\n",
       "      <td>2015-11-02</td>\n",
       "      <td>Web Development</td>\n",
       "      <td>1651</td>\n",
       "      <td>73.642641</td>\n",
       "    </tr>\n",
       "    <tr>\n",
       "      <th>3232</th>\n",
       "      <td>764164</td>\n",
       "      <td>The Complete Web Developer Course 2.0</td>\n",
       "      <td>https://www.udemy.com/the-complete-web-develop...</td>\n",
       "      <td>yes</td>\n",
       "      <td>200</td>\n",
       "      <td>114512</td>\n",
       "      <td>22412</td>\n",
       "      <td>304</td>\n",
       "      <td>All Levels</td>\n",
       "      <td>30.5</td>\n",
       "      <td>2016-03-08</td>\n",
       "      <td>Web Development</td>\n",
       "      <td>1524</td>\n",
       "      <td>75.139108</td>\n",
       "    </tr>\n",
       "    <tr>\n",
       "      <th>3247</th>\n",
       "      <td>364426</td>\n",
       "      <td>JavaScript: Understanding the Weird Parts</td>\n",
       "      <td>https://www.udemy.com/understand-javascript/</td>\n",
       "      <td>yes</td>\n",
       "      <td>175</td>\n",
       "      <td>79612</td>\n",
       "      <td>16976</td>\n",
       "      <td>85</td>\n",
       "      <td>All Levels</td>\n",
       "      <td>11.5</td>\n",
       "      <td>2015-03-12</td>\n",
       "      <td>Web Development</td>\n",
       "      <td>1886</td>\n",
       "      <td>42.212089</td>\n",
       "    </tr>\n",
       "  </tbody>\n",
       "</table>\n",
       "</div>"
      ],
      "text/plain": [
       "      course_id                                       course_title  \\\n",
       "2589     473160  Web Design for Web Developers: Build Beautiful...   \n",
       "2783     173548  Build Your First Website in 1 Week with HTML5 ...   \n",
       "2827      41295               Learn HTML5 Programming From Scratch   \n",
       "3032      59014                     Coding for Entrepreneurs Basic   \n",
       "3204     756150  Angular 4 (formerly Angular 2) - The Complete ...   \n",
       "3230     625204                         The Web Developer Bootcamp   \n",
       "3232     764164              The Complete Web Developer Course 2.0   \n",
       "3247     364426          JavaScript: Understanding the Weird Parts   \n",
       "\n",
       "                                                    url is_paid  price  \\\n",
       "2589          https://www.udemy.com/web-design-secrets/      no      0   \n",
       "2783  https://www.udemy.com/build-your-first-website...      no      0   \n",
       "2827  https://www.udemy.com/learn-html5-programming-...      no      0   \n",
       "3032  https://www.udemy.com/coding-for-entrepreneurs...      no      0   \n",
       "3204  https://www.udemy.com/the-complete-guide-to-an...     yes    190   \n",
       "3230  https://www.udemy.com/the-web-developer-bootcamp/     yes    200   \n",
       "3232  https://www.udemy.com/the-complete-web-develop...     yes    200   \n",
       "3247       https://www.udemy.com/understand-javascript/     yes    175   \n",
       "\n",
       "      num_subscribers  num_reviews  num_lectures           level  \\\n",
       "2589            98867         6512            20      All Levels   \n",
       "2783           120291         5924            30  Beginner Level   \n",
       "2827           268923         8629            45      All Levels   \n",
       "3032           161029          279            27  Beginner Level   \n",
       "3204            73783        19649           329      All Levels   \n",
       "3230           121584        27445           342      All Levels   \n",
       "3232           114512        22412           304      All Levels   \n",
       "3247            79612        16976            85      All Levels   \n",
       "\n",
       "      content_duration published_timestamp          subject   age  popularity  \n",
       "2589               3.0          2015-04-13  Web Development  1854   53.326321  \n",
       "2783               3.0          2014-04-08  Web Development  2224   54.087680  \n",
       "2827              10.5          2013-02-14  Web Development  2642  101.787661  \n",
       "3032               3.5          2013-06-09  Web Development  2527   63.723387  \n",
       "3204              22.0          2016-02-11  Web Development  1550   47.601935  \n",
       "3230              43.0          2015-11-02  Web Development  1651   73.642641  \n",
       "3232              30.5          2016-03-08  Web Development  1524   75.139108  \n",
       "3247              11.5          2015-03-12  Web Development  1886   42.212089  "
      ]
     },
     "execution_count": 13,
     "metadata": {},
     "output_type": "execute_result"
    }
   ],
   "source": [
    "df_extrem_popular = df[df['popularity']>=40]\n",
    "df_extrem_popular"
   ]
  },
  {
   "cell_type": "markdown",
   "id": "a27826c9",
   "metadata": {},
   "source": [
    "We obtain that there are 8 observations with extremely high popularity (0.2% of all dataset). They all are from \"web development\" area (0.67% of all courses from this area). As the percentage of extremely popular courses is not high we'll consider them as outliers and dropp out of consideration."
   ]
  },
  {
   "cell_type": "code",
   "execution_count": 14,
   "id": "7d8aa894",
   "metadata": {},
   "outputs": [],
   "source": [
    "ind_dropped = df_extrem_popular.index\n",
    "df.drop(ind_dropped, inplace=True)"
   ]
  },
  {
   "cell_type": "code",
   "execution_count": 15,
   "id": "a6dff86a",
   "metadata": {},
   "outputs": [
    {
     "data": {
      "text/plain": [
       "['course_id',\n",
       " 'is_paid',\n",
       " 'price',\n",
       " 'num_lectures',\n",
       " 'level',\n",
       " 'content_duration',\n",
       " 'subject',\n",
       " 'popularity']"
      ]
     },
     "execution_count": 15,
     "metadata": {},
     "output_type": "execute_result"
    }
   ],
   "source": [
    "# create a list of column names, except \"published_timestamp\" (as it's replaced with \"age\"),\n",
    "# \"course_title\" and \"url\" features are also excluded as the course is defined with \"course_id\" column\n",
    "# \"num_subscribers\", \"num_reviews\" and \"age\" features are excluded as our business task is to prognose,\n",
    "# wether course will be popular\n",
    "list_features = list(df.columns)\n",
    "list_features.remove('published_timestamp')\n",
    "list_features.remove('course_title')\n",
    "list_features.remove('url')\n",
    "list_features.remove('num_subscribers')\n",
    "list_features.remove('num_reviews')\n",
    "list_features.remove('age')\n",
    "list_features"
   ]
  },
  {
   "cell_type": "markdown",
   "id": "8718a77d",
   "metadata": {},
   "source": [
    "# 3. Setting up the validation framework"
   ]
  },
  {
   "cell_type": "code",
   "execution_count": 16,
   "id": "4dfb1c9a",
   "metadata": {},
   "outputs": [],
   "source": [
    "df_full_train, df_test = train_test_split(df[list_features], test_size=0.2, random_state=42)\n",
    "df_train, df_val = train_test_split(df_full_train, test_size=0.25, random_state=42)"
   ]
  },
  {
   "cell_type": "code",
   "execution_count": 17,
   "id": "633f4d7a",
   "metadata": {},
   "outputs": [
    {
     "data": {
      "text/plain": [
       "(2202, 734, 734)"
      ]
     },
     "execution_count": 17,
     "metadata": {},
     "output_type": "execute_result"
    }
   ],
   "source": [
    "len(df_train), len(df_val), len(df_test)"
   ]
  },
  {
   "cell_type": "code",
   "execution_count": 18,
   "id": "7b828574",
   "metadata": {},
   "outputs": [],
   "source": [
    "df_train = df_train.reset_index(drop=True)\n",
    "df_val = df_val.reset_index(drop=True)\n",
    "df_test = df_test.reset_index(drop=True)"
   ]
  },
  {
   "cell_type": "code",
   "execution_count": 19,
   "id": "95d278b7",
   "metadata": {},
   "outputs": [],
   "source": [
    "y_train = df_train.popularity.values\n",
    "y_val = df_val.popularity.values\n",
    "y_test = df_test.popularity.values\n",
    "\n",
    "df_train_target = df_train   # store this matrix for feature importance analysis\n",
    "\n",
    "del df_train['popularity']\n",
    "del df_val['popularity']\n",
    "del df_test['popularity']"
   ]
  },
  {
   "cell_type": "markdown",
   "id": "e046d95a",
   "metadata": {},
   "source": [
    "# 4. Exploratory data analysis"
   ]
  },
  {
   "cell_type": "markdown",
   "id": "875338f9",
   "metadata": {},
   "source": [
    "## 4.1. Target value analysis and handling"
   ]
  },
  {
   "cell_type": "code",
   "execution_count": 20,
   "id": "d83f1674",
   "metadata": {},
   "outputs": [
    {
     "data": {
      "image/png": "[encoded data removed]",
      "text/plain": [
       "<Figure size 600x400 with 1 Axes>"
      ]
     },
     "metadata": {},
     "output_type": "display_data"
    }
   ],
   "source": [
    "# explore a distribution of \"popularity\" for train data\n",
    "plt.figure(figsize=(6, 4))\n",
    "\n",
    "sns.histplot(y_train, bins=40, color='blue', alpha=1)\n",
    "plt.ylabel('Frequency')\n",
    "plt.xlabel('Popularity')\n",
    "plt.title('Distribution of popularity')\n",
    "\n",
    "plt.show()"
   ]
  },
  {
   "cell_type": "markdown",
   "id": "307b1de0",
   "metadata": {},
   "source": [
    "We see that there are just a few observations with popularity greater than 10 (subscribers per day). While most of courses has from 0 to 3 subscribers per day."
   ]
  },
  {
   "cell_type": "markdown",
   "id": "14b66816",
   "metadata": {},
   "source": [
    "The distribution of target value is similar to Poisson distribution. And mean value depends significantly from just a few observations (most popular courses). In this case we'll set median value as a threshold to consider courses popular/unpopular."
   ]
  },
  {
   "cell_type": "code",
   "execution_count": 21,
   "id": "b7a90bb9",
   "metadata": {},
   "outputs": [],
   "source": [
    "def target_handle(y):\n",
    "    popularity_threshold = np.median(y_train)\n",
    "    y = (y<popularity_threshold).astype(int)\n",
    "    return y"
   ]
  },
  {
   "cell_type": "code",
   "execution_count": 22,
   "id": "a35ef875",
   "metadata": {},
   "outputs": [],
   "source": [
    "y_train = target_handle(y_train)"
   ]
  },
  {
   "cell_type": "code",
   "execution_count": 23,
   "id": "9b9b3b4a",
   "metadata": {},
   "outputs": [
    {
     "data": {
      "text/plain": [
       "array([[   0,    1],\n",
       "       [1101, 1101]], dtype=int64)"
      ]
     },
     "execution_count": 23,
     "metadata": {},
     "output_type": "execute_result"
    }
   ],
   "source": [
    "# check the correctness of target handling. Counting a quantity of popular/unpopular courses\n",
    "np.array(np.unique(y_train, return_counts=True))"
   ]
  },
  {
   "cell_type": "code",
   "execution_count": 24,
   "id": "b217f4a3",
   "metadata": {},
   "outputs": [],
   "source": [
    "y_val = target_handle(y_val)\n",
    "y_test = target_handle(y_test)"
   ]
  },
  {
   "cell_type": "markdown",
   "id": "c4c30a77",
   "metadata": {},
   "source": [
    "## 4.2. Feature importance analysis"
   ]
  },
  {
   "cell_type": "code",
   "execution_count": 25,
   "id": "99c0d406",
   "metadata": {},
   "outputs": [
    {
     "data": {
      "text/html": [
       "<div>\n",
       "<style scoped>\n",
       "    .dataframe tbody tr th:only-of-type {\n",
       "        vertical-align: middle;\n",
       "    }\n",
       "\n",
       "    .dataframe tbody tr th {\n",
       "        vertical-align: top;\n",
       "    }\n",
       "\n",
       "    .dataframe thead th {\n",
       "        text-align: right;\n",
       "    }\n",
       "</style>\n",
       "<table border=\"1\" class=\"dataframe\">\n",
       "  <thead>\n",
       "    <tr style=\"text-align: right;\">\n",
       "      <th></th>\n",
       "      <th>course_id</th>\n",
       "      <th>is_paid</th>\n",
       "      <th>price</th>\n",
       "      <th>num_lectures</th>\n",
       "      <th>level</th>\n",
       "      <th>content_duration</th>\n",
       "      <th>subject</th>\n",
       "    </tr>\n",
       "  </thead>\n",
       "  <tbody>\n",
       "    <tr>\n",
       "      <th>0</th>\n",
       "      <td>554384</td>\n",
       "      <td>yes</td>\n",
       "      <td>95</td>\n",
       "      <td>70</td>\n",
       "      <td>All Levels</td>\n",
       "      <td>13.5</td>\n",
       "      <td>Web Development</td>\n",
       "    </tr>\n",
       "    <tr>\n",
       "      <th>1</th>\n",
       "      <td>1009622</td>\n",
       "      <td>yes</td>\n",
       "      <td>80</td>\n",
       "      <td>43</td>\n",
       "      <td>Beginner Level</td>\n",
       "      <td>5.5</td>\n",
       "      <td>Graphic Design</td>\n",
       "    </tr>\n",
       "    <tr>\n",
       "      <th>2</th>\n",
       "      <td>1178150</td>\n",
       "      <td>yes</td>\n",
       "      <td>20</td>\n",
       "      <td>8</td>\n",
       "      <td>All Levels</td>\n",
       "      <td>1.0</td>\n",
       "      <td>Business Finance</td>\n",
       "    </tr>\n",
       "    <tr>\n",
       "      <th>3</th>\n",
       "      <td>267286</td>\n",
       "      <td>yes</td>\n",
       "      <td>35</td>\n",
       "      <td>10</td>\n",
       "      <td>Beginner Level</td>\n",
       "      <td>1.0</td>\n",
       "      <td>Web Development</td>\n",
       "    </tr>\n",
       "    <tr>\n",
       "      <th>4</th>\n",
       "      <td>1246252</td>\n",
       "      <td>yes</td>\n",
       "      <td>65</td>\n",
       "      <td>14</td>\n",
       "      <td>Beginner Level</td>\n",
       "      <td>2.0</td>\n",
       "      <td>Graphic Design</td>\n",
       "    </tr>\n",
       "  </tbody>\n",
       "</table>\n",
       "</div>"
      ],
      "text/plain": [
       "   course_id is_paid  price  num_lectures           level  content_duration  \\\n",
       "0     554384     yes     95            70      All Levels              13.5   \n",
       "1    1009622     yes     80            43  Beginner Level               5.5   \n",
       "2    1178150     yes     20             8      All Levels               1.0   \n",
       "3     267286     yes     35            10  Beginner Level               1.0   \n",
       "4    1246252     yes     65            14  Beginner Level               2.0   \n",
       "\n",
       "            subject  \n",
       "0   Web Development  \n",
       "1    Graphic Design  \n",
       "2  Business Finance  \n",
       "3   Web Development  \n",
       "4    Graphic Design  "
      ]
     },
     "execution_count": 25,
     "metadata": {},
     "output_type": "execute_result"
    }
   ],
   "source": [
    "df_train.head()"
   ]
  },
  {
   "cell_type": "code",
   "execution_count": 26,
   "id": "e233e903",
   "metadata": {},
   "outputs": [
    {
     "data": {
      "text/plain": [
       "course_id             int64\n",
       "is_paid              object\n",
       "price                 int64\n",
       "num_lectures          int64\n",
       "level                object\n",
       "content_duration    float64\n",
       "subject              object\n",
       "dtype: object"
      ]
     },
     "execution_count": 26,
     "metadata": {},
     "output_type": "execute_result"
    }
   ],
   "source": [
    "# checking types of features\n",
    "df_train.dtypes"
   ]
  },
  {
   "cell_type": "markdown",
   "id": "7034c056",
   "metadata": {},
   "source": [
    "So we have categorical features: is_paid, level and subject. The other features are numerical."
   ]
  },
  {
   "cell_type": "code",
   "execution_count": 27,
   "id": "ad98a293",
   "metadata": {},
   "outputs": [],
   "source": [
    "categorical = ['is_paid', 'level', 'subject']"
   ]
  },
  {
   "cell_type": "code",
   "execution_count": 28,
   "id": "3904375b",
   "metadata": {},
   "outputs": [],
   "source": [
    "# in feature importance analysis we'll consider numerical features except \"course_id\"\n",
    "numerical = ['price',\n",
    "    'num_lectures',\n",
    "    'content_duration']"
   ]
  },
  {
   "cell_type": "markdown",
   "id": "fdcfdf75",
   "metadata": {},
   "source": [
    "### 4.2.1. Mutual information"
   ]
  },
  {
   "cell_type": "markdown",
   "id": "b2fa6d70",
   "metadata": {},
   "source": [
    "Now we'll consider mutual information for categorical "
   ]
  },
  {
   "cell_type": "code",
   "execution_count": 29,
   "id": "6fc93a49",
   "metadata": {},
   "outputs": [],
   "source": [
    "def mutual_info_churn_score(series):\n",
    "    return mutual_info_score(series, y_train)"
   ]
  },
  {
   "cell_type": "code",
   "execution_count": 30,
   "id": "c79a2ed0",
   "metadata": {},
   "outputs": [
    {
     "data": {
      "text/plain": [
       "subject    0.122093\n",
       "is_paid    0.033276\n",
       "level      0.004233\n",
       "dtype: float64"
      ]
     },
     "execution_count": 30,
     "metadata": {},
     "output_type": "execute_result"
    }
   ],
   "source": [
    "mi = df_train[categorical].apply(mutual_info_churn_score)\n",
    "mi.sort_values(ascending=False)"
   ]
  },
  {
   "cell_type": "markdown",
   "id": "f52f59f5",
   "metadata": {},
   "source": [
    "Results above shows that a target value 'popularity' depends significantly of a 'subject' of a course. The fact of whether is course free of charge or not play less important role. And the level of a course affects just slightly on a target value 'popularity'."
   ]
  },
  {
   "cell_type": "markdown",
   "id": "6e29760f",
   "metadata": {},
   "source": [
    "### 4.2.3. Correlation"
   ]
  },
  {
   "cell_type": "code",
   "execution_count": 31,
   "id": "1764d369",
   "metadata": {},
   "outputs": [
    {
     "data": {
      "text/html": [
       "<div>\n",
       "<style scoped>\n",
       "    .dataframe tbody tr th:only-of-type {\n",
       "        vertical-align: middle;\n",
       "    }\n",
       "\n",
       "    .dataframe tbody tr th {\n",
       "        vertical-align: top;\n",
       "    }\n",
       "\n",
       "    .dataframe thead th {\n",
       "        text-align: right;\n",
       "    }\n",
       "</style>\n",
       "<table border=\"1\" class=\"dataframe\">\n",
       "  <thead>\n",
       "    <tr style=\"text-align: right;\">\n",
       "      <th></th>\n",
       "      <th>price</th>\n",
       "      <th>num_lectures</th>\n",
       "      <th>content_duration</th>\n",
       "      <th>popularity</th>\n",
       "    </tr>\n",
       "  </thead>\n",
       "  <tbody>\n",
       "    <tr>\n",
       "      <th>0</th>\n",
       "      <td>95</td>\n",
       "      <td>70</td>\n",
       "      <td>13.5</td>\n",
       "      <td>0</td>\n",
       "    </tr>\n",
       "    <tr>\n",
       "      <th>1</th>\n",
       "      <td>80</td>\n",
       "      <td>43</td>\n",
       "      <td>5.5</td>\n",
       "      <td>1</td>\n",
       "    </tr>\n",
       "    <tr>\n",
       "      <th>2</th>\n",
       "      <td>20</td>\n",
       "      <td>8</td>\n",
       "      <td>1.0</td>\n",
       "      <td>1</td>\n",
       "    </tr>\n",
       "    <tr>\n",
       "      <th>3</th>\n",
       "      <td>35</td>\n",
       "      <td>10</td>\n",
       "      <td>1.0</td>\n",
       "      <td>0</td>\n",
       "    </tr>\n",
       "    <tr>\n",
       "      <th>4</th>\n",
       "      <td>65</td>\n",
       "      <td>14</td>\n",
       "      <td>2.0</td>\n",
       "      <td>1</td>\n",
       "    </tr>\n",
       "    <tr>\n",
       "      <th>...</th>\n",
       "      <td>...</td>\n",
       "      <td>...</td>\n",
       "      <td>...</td>\n",
       "      <td>...</td>\n",
       "    </tr>\n",
       "    <tr>\n",
       "      <th>2197</th>\n",
       "      <td>50</td>\n",
       "      <td>15</td>\n",
       "      <td>2.5</td>\n",
       "      <td>1</td>\n",
       "    </tr>\n",
       "    <tr>\n",
       "      <th>2198</th>\n",
       "      <td>50</td>\n",
       "      <td>80</td>\n",
       "      <td>11.0</td>\n",
       "      <td>0</td>\n",
       "    </tr>\n",
       "    <tr>\n",
       "      <th>2199</th>\n",
       "      <td>45</td>\n",
       "      <td>112</td>\n",
       "      <td>3.0</td>\n",
       "      <td>1</td>\n",
       "    </tr>\n",
       "    <tr>\n",
       "      <th>2200</th>\n",
       "      <td>0</td>\n",
       "      <td>22</td>\n",
       "      <td>1.5</td>\n",
       "      <td>0</td>\n",
       "    </tr>\n",
       "    <tr>\n",
       "      <th>2201</th>\n",
       "      <td>200</td>\n",
       "      <td>77</td>\n",
       "      <td>7.5</td>\n",
       "      <td>0</td>\n",
       "    </tr>\n",
       "  </tbody>\n",
       "</table>\n",
       "<p>2202 rows × 4 columns</p>\n",
       "</div>"
      ],
      "text/plain": [
       "      price  num_lectures  content_duration  popularity\n",
       "0        95            70              13.5           0\n",
       "1        80            43               5.5           1\n",
       "2        20             8               1.0           1\n",
       "3        35            10               1.0           0\n",
       "4        65            14               2.0           1\n",
       "...     ...           ...               ...         ...\n",
       "2197     50            15               2.5           1\n",
       "2198     50            80              11.0           0\n",
       "2199     45           112               3.0           1\n",
       "2200      0            22               1.5           0\n",
       "2201    200            77               7.5           0\n",
       "\n",
       "[2202 rows x 4 columns]"
      ]
     },
     "execution_count": 31,
     "metadata": {},
     "output_type": "execute_result"
    }
   ],
   "source": [
    "df_train_with_target = pd.concat([df_train[numerical], pd.DataFrame(y_train, columns=['popularity'])], axis=1)\n",
    "df_train_with_target"
   ]
  },
  {
   "cell_type": "code",
   "execution_count": 32,
   "id": "90ddbd25",
   "metadata": {},
   "outputs": [
    {
     "data": {
      "text/plain": [
       "price               0.177435\n",
       "num_lectures        0.126851\n",
       "content_duration    0.124418\n",
       "dtype: float64"
      ]
     },
     "execution_count": 32,
     "metadata": {},
     "output_type": "execute_result"
    }
   ],
   "source": [
    "df_train_with_target[numerical].corrwith(df_train_with_target.popularity).abs()"
   ]
  },
  {
   "cell_type": "code",
   "execution_count": 33,
   "id": "d60ae446",
   "metadata": {},
   "outputs": [
    {
     "data": {
      "text/html": [
       "<div>\n",
       "<style scoped>\n",
       "    .dataframe tbody tr th:only-of-type {\n",
       "        vertical-align: middle;\n",
       "    }\n",
       "\n",
       "    .dataframe tbody tr th {\n",
       "        vertical-align: top;\n",
       "    }\n",
       "\n",
       "    .dataframe thead th {\n",
       "        text-align: right;\n",
       "    }\n",
       "</style>\n",
       "<table border=\"1\" class=\"dataframe\">\n",
       "  <thead>\n",
       "    <tr style=\"text-align: right;\">\n",
       "      <th></th>\n",
       "      <th>price</th>\n",
       "      <th>num_lectures</th>\n",
       "      <th>content_duration</th>\n",
       "      <th>popularity</th>\n",
       "    </tr>\n",
       "  </thead>\n",
       "  <tbody>\n",
       "    <tr>\n",
       "      <th>price</th>\n",
       "      <td>1.000000</td>\n",
       "      <td>0.331459</td>\n",
       "      <td>0.308325</td>\n",
       "      <td>-0.177435</td>\n",
       "    </tr>\n",
       "    <tr>\n",
       "      <th>num_lectures</th>\n",
       "      <td>0.331459</td>\n",
       "      <td>1.000000</td>\n",
       "      <td>0.822149</td>\n",
       "      <td>-0.126851</td>\n",
       "    </tr>\n",
       "    <tr>\n",
       "      <th>content_duration</th>\n",
       "      <td>0.308325</td>\n",
       "      <td>0.822149</td>\n",
       "      <td>1.000000</td>\n",
       "      <td>-0.124418</td>\n",
       "    </tr>\n",
       "    <tr>\n",
       "      <th>popularity</th>\n",
       "      <td>-0.177435</td>\n",
       "      <td>-0.126851</td>\n",
       "      <td>-0.124418</td>\n",
       "      <td>1.000000</td>\n",
       "    </tr>\n",
       "  </tbody>\n",
       "</table>\n",
       "</div>"
      ],
      "text/plain": [
       "                     price  num_lectures  content_duration  popularity\n",
       "price             1.000000      0.331459          0.308325   -0.177435\n",
       "num_lectures      0.331459      1.000000          0.822149   -0.126851\n",
       "content_duration  0.308325      0.822149          1.000000   -0.124418\n",
       "popularity       -0.177435     -0.126851         -0.124418    1.000000"
      ]
     },
     "execution_count": 33,
     "metadata": {},
     "output_type": "execute_result"
    }
   ],
   "source": [
    "df_train_corr = df_train_with_target.corr()\n",
    "df_train_corr"
   ]
  },
  {
   "cell_type": "code",
   "execution_count": 34,
   "id": "8da3cfd9",
   "metadata": {},
   "outputs": [
    {
     "data": {
      "text/plain": [
       "price             popularity         -0.177435\n",
       "popularity        price              -0.177435\n",
       "num_lectures      popularity         -0.126851\n",
       "popularity        num_lectures       -0.126851\n",
       "content_duration  popularity         -0.124418\n",
       "popularity        content_duration   -0.124418\n",
       "price             content_duration    0.308325\n",
       "content_duration  price               0.308325\n",
       "price             num_lectures        0.331459\n",
       "num_lectures      price               0.331459\n",
       "                  content_duration    0.822149\n",
       "content_duration  num_lectures        0.822149\n",
       "price             price               1.000000\n",
       "num_lectures      num_lectures        1.000000\n",
       "content_duration  content_duration    1.000000\n",
       "popularity        popularity          1.000000\n",
       "dtype: float64"
      ]
     },
     "execution_count": 34,
     "metadata": {},
     "output_type": "execute_result"
    }
   ],
   "source": [
    "df_train_corr.unstack().sort_values()"
   ]
  },
  {
   "cell_type": "markdown",
   "id": "9d543228",
   "metadata": {},
   "source": [
    "We've obtained that 'price', 'content_duration' and 'num_lectures' effect on a target value almost equally. But their effect is not significant."
   ]
  },
  {
   "cell_type": "markdown",
   "id": "58d7bea1",
   "metadata": {},
   "source": [
    "# 5. One-hot encoding"
   ]
  },
  {
   "cell_type": "code",
   "execution_count": 35,
   "id": "0d66ed5d",
   "metadata": {},
   "outputs": [],
   "source": [
    "dv = DictVectorizer(sparse=False)\n",
    "\n",
    "train_dict = df_train.to_dict(orient='records')\n",
    "X_train = dv.fit_transform(train_dict)\n",
    "\n",
    "val_dict = df_val.to_dict(orient='records')\n",
    "X_val = dv.transform(val_dict)"
   ]
  },
  {
   "cell_type": "markdown",
   "id": "881d043b",
   "metadata": {},
   "source": [
    "# 6. Linear regression classifier model, parameters tuning"
   ]
  },
  {
   "cell_type": "code",
   "execution_count": 36,
   "id": "443c730c",
   "metadata": {},
   "outputs": [],
   "source": [
    "from sklearn.linear_model import RidgeClassifier\n",
    "from sklearn.metrics import roc_auc_score"
   ]
  },
  {
   "cell_type": "code",
   "execution_count": 37,
   "id": "c2d0830b",
   "metadata": {},
   "outputs": [
    {
     "data": {
      "text/html": [
       "<style>#sk-container-id-1 {color: black;background-color: white;}#sk-container-id-1 pre{padding: 0;}#sk-container-id-1 div.sk-toggleable {background-color: white;}#sk-container-id-1 label.sk-toggleable__label {cursor: pointer;display: block;width: 100%;margin-bottom: 0;padding: 0.3em;box-sizing: border-box;text-align: center;}#sk-container-id-1 label.sk-toggleable__label-arrow:before {content: \"▸\";float: left;margin-right: 0.25em;color: #696969;}#sk-container-id-1 label.sk-toggleable__label-arrow:hover:before {color: black;}#sk-container-id-1 div.sk-estimator:hover label.sk-toggleable__label-arrow:before {color: black;}#sk-container-id-1 div.sk-toggleable__content {max-height: 0;max-width: 0;overflow: hidden;text-align: left;background-color: #f0f8ff;}#sk-container-id-1 div.sk-toggleable__content pre {margin: 0.2em;color: black;border-radius: 0.25em;background-color: #f0f8ff;}#sk-container-id-1 input.sk-toggleable__control:checked~div.sk-toggleable__content {max-height: 200px;max-width: 100%;overflow: auto;}#sk-container-id-1 input.sk-toggleable__control:checked~label.sk-toggleable__label-arrow:before {content: \"▾\";}#sk-container-id-1 div.sk-estimator input.sk-toggleable__control:checked~label.sk-toggleable__label {background-color: #d4ebff;}#sk-container-id-1 div.sk-label input.sk-toggleable__control:checked~label.sk-toggleable__label {background-color: #d4ebff;}#sk-container-id-1 input.sk-hidden--visually {border: 0;clip: rect(1px 1px 1px 1px);clip: rect(1px, 1px, 1px, 1px);height: 1px;margin: -1px;overflow: hidden;padding: 0;position: absolute;width: 1px;}#sk-container-id-1 div.sk-estimator {font-family: monospace;background-color: #f0f8ff;border: 1px dotted black;border-radius: 0.25em;box-sizing: border-box;margin-bottom: 0.5em;}#sk-container-id-1 div.sk-estimator:hover {background-color: #d4ebff;}#sk-container-id-1 div.sk-parallel-item::after {content: \"\";width: 100%;border-bottom: 1px solid gray;flex-grow: 1;}#sk-container-id-1 div.sk-label:hover label.sk-toggleable__label {background-color: #d4ebff;}#sk-container-id-1 div.sk-serial::before {content: \"\";position: absolute;border-left: 1px solid gray;box-sizing: border-box;top: 0;bottom: 0;left: 50%;z-index: 0;}#sk-container-id-1 div.sk-serial {display: flex;flex-direction: column;align-items: center;background-color: white;padding-right: 0.2em;padding-left: 0.2em;position: relative;}#sk-container-id-1 div.sk-item {position: relative;z-index: 1;}#sk-container-id-1 div.sk-parallel {display: flex;align-items: stretch;justify-content: center;background-color: white;position: relative;}#sk-container-id-1 div.sk-item::before, #sk-container-id-1 div.sk-parallel-item::before {content: \"\";position: absolute;border-left: 1px solid gray;box-sizing: border-box;top: 0;bottom: 0;left: 50%;z-index: -1;}#sk-container-id-1 div.sk-parallel-item {display: flex;flex-direction: column;z-index: 1;position: relative;background-color: white;}#sk-container-id-1 div.sk-parallel-item:first-child::after {align-self: flex-end;width: 50%;}#sk-container-id-1 div.sk-parallel-item:last-child::after {align-self: flex-start;width: 50%;}#sk-container-id-1 div.sk-parallel-item:only-child::after {width: 0;}#sk-container-id-1 div.sk-dashed-wrapped {border: 1px dashed gray;margin: 0 0.4em 0.5em 0.4em;box-sizing: border-box;padding-bottom: 0.4em;background-color: white;}#sk-container-id-1 div.sk-label label {font-family: monospace;font-weight: bold;display: inline-block;line-height: 1.2em;}#sk-container-id-1 div.sk-label-container {text-align: center;}#sk-container-id-1 div.sk-container {/* jupyter's `normalize.less` sets `[hidden] { display: none; }` but bootstrap.min.css set `[hidden] { display: none !important; }` so we also need the `!important` here to be able to override the default hidden behavior on the sphinx rendered scikit-learn.org. See: https://github.com/scikit-learn/scikit-learn/issues/21755 */display: inline-block !important;position: relative;}#sk-container-id-1 div.sk-text-repr-fallback {display: none;}</style><div id=\"sk-container-id-1\" class=\"sk-top-container\"><div class=\"sk-text-repr-fallback\"><pre>RidgeClassifier()</pre><b>In a Jupyter environment, please rerun this cell to show the HTML representation or trust the notebook. <br />On GitHub, the HTML representation is unable to render, please try loading this page with nbviewer.org.</b></div><div class=\"sk-container\" hidden><div class=\"sk-item\"><div class=\"sk-estimator sk-toggleable\"><input class=\"sk-toggleable__control sk-hidden--visually\" id=\"sk-estimator-id-1\" type=\"checkbox\" checked><label for=\"sk-estimator-id-1\" class=\"sk-toggleable__label sk-toggleable__label-arrow\">RidgeClassifier</label><div class=\"sk-toggleable__content\"><pre>RidgeClassifier()</pre></div></div></div></div></div>"
      ],
      "text/plain": [
       "RidgeClassifier()"
      ]
     },
     "execution_count": 37,
     "metadata": {},
     "output_type": "execute_result"
    }
   ],
   "source": [
    "model = RidgeClassifier()\n",
    "model.fit(X_train, y_train)"
   ]
  },
  {
   "cell_type": "code",
   "execution_count": 38,
   "id": "69caf43f",
   "metadata": {},
   "outputs": [
    {
     "data": {
      "text/plain": [
       "0.7695213917159055"
      ]
     },
     "execution_count": 38,
     "metadata": {},
     "output_type": "execute_result"
    }
   ],
   "source": [
    "y_pred = model.predict(X_val)\n",
    "popular = (y_pred>=0.5)\n",
    "roc_auc_score(y_val, popular)"
   ]
  },
  {
   "cell_type": "markdown",
   "id": "fc3ca1a0",
   "metadata": {},
   "source": [
    "Let's investigate, whether solver affects on the results of model and it's ROC-AUC score."
   ]
  },
  {
   "cell_type": "code",
   "execution_count": 39,
   "id": "36f85362",
   "metadata": {},
   "outputs": [],
   "source": [
    "solver_list = ['svd', 'cholesky', 'lsqr', 'sparse_cg', 'sag', 'saga']\n",
    "solver_roc_auc = dict()\n",
    "for s in solver_list:\n",
    "    model = RidgeClassifier(solver=s)\n",
    "    model.fit(X_train, y_train)\n",
    "    y_pred = model.predict(X_val)\n",
    "    popular = (y_pred>=0.5)\n",
    "    rocauc = roc_auc_score(y_val, popular)\n",
    "    solver_roc_auc[s] = rocauc"
   ]
  },
  {
   "cell_type": "code",
   "execution_count": 40,
   "id": "7f2e44f6",
   "metadata": {},
   "outputs": [
    {
     "data": {
      "text/plain": [
       "{'svd': 0.7695213917159055,\n",
       " 'cholesky': 0.7695213917159055,\n",
       " 'lsqr': 0.4928744205552186,\n",
       " 'sparse_cg': 0.5855893299783574,\n",
       " 'sag': 0.509390937071735,\n",
       " 'saga': 0.499872690645758}"
      ]
     },
     "execution_count": 40,
     "metadata": {},
     "output_type": "execute_result"
    }
   ],
   "source": [
    "solver_roc_auc"
   ]
  },
  {
   "cell_type": "markdown",
   "id": "017efcf0",
   "metadata": {},
   "source": [
    "From the results obtained we see that 'svd' and 'cholesky' solvers led to better results."
   ]
  },
  {
   "cell_type": "markdown",
   "id": "532960db",
   "metadata": {},
   "source": [
    "Now we'll tune parameter alpha of the linear regression classifier model. This is regularization strength; must be a positive float."
   ]
  },
  {
   "cell_type": "code",
   "execution_count": 41,
   "id": "71e8679e",
   "metadata": {},
   "outputs": [],
   "source": [
    "scores = []\n",
    "\n",
    "for s in ['svd', 'cholesky']:\n",
    "    for a in [0.05, 0.1, 1, 5, 10]:\n",
    "        model = RidgeClassifier(solver=s, alpha=a)\n",
    "        model.fit(X_train, y_train)\n",
    "        y_pred = model.predict(X_val)\n",
    "        popular = (y_pred>=0.5)\n",
    "        rocauc = roc_auc_score(y_val, popular)\n",
    "        scores.append((s, a, rocauc))"
   ]
  },
  {
   "cell_type": "code",
   "execution_count": 42,
   "id": "a5bc2ffc",
   "metadata": {},
   "outputs": [],
   "source": [
    "columns = ['solver', 'alpha', 'auc']\n",
    "df_scores = pd.DataFrame(scores, columns=columns)"
   ]
  },
  {
   "cell_type": "code",
   "execution_count": 43,
   "id": "9f47867e",
   "metadata": {},
   "outputs": [
    {
     "data": {
      "text/html": [
       "<div>\n",
       "<style scoped>\n",
       "    .dataframe tbody tr th:only-of-type {\n",
       "        vertical-align: middle;\n",
       "    }\n",
       "\n",
       "    .dataframe tbody tr th {\n",
       "        vertical-align: top;\n",
       "    }\n",
       "\n",
       "    .dataframe thead tr th {\n",
       "        text-align: left;\n",
       "    }\n",
       "\n",
       "    .dataframe thead tr:last-of-type th {\n",
       "        text-align: right;\n",
       "    }\n",
       "</style>\n",
       "<table border=\"1\" class=\"dataframe\">\n",
       "  <thead>\n",
       "    <tr>\n",
       "      <th></th>\n",
       "      <th colspan=\"2\" halign=\"left\">auc</th>\n",
       "    </tr>\n",
       "    <tr>\n",
       "      <th>solver</th>\n",
       "      <th>cholesky</th>\n",
       "      <th>svd</th>\n",
       "    </tr>\n",
       "    <tr>\n",
       "      <th>alpha</th>\n",
       "      <th></th>\n",
       "      <th></th>\n",
       "    </tr>\n",
       "  </thead>\n",
       "  <tbody>\n",
       "    <tr>\n",
       "      <th>0.05</th>\n",
       "      <td>0.769521</td>\n",
       "      <td>0.769521</td>\n",
       "    </tr>\n",
       "    <tr>\n",
       "      <th>0.10</th>\n",
       "      <td>0.769521</td>\n",
       "      <td>0.769521</td>\n",
       "    </tr>\n",
       "    <tr>\n",
       "      <th>1.00</th>\n",
       "      <td>0.769521</td>\n",
       "      <td>0.769521</td>\n",
       "    </tr>\n",
       "    <tr>\n",
       "      <th>5.00</th>\n",
       "      <td>0.770768</td>\n",
       "      <td>0.770768</td>\n",
       "    </tr>\n",
       "    <tr>\n",
       "      <th>10.00</th>\n",
       "      <td>0.770768</td>\n",
       "      <td>0.770768</td>\n",
       "    </tr>\n",
       "  </tbody>\n",
       "</table>\n",
       "</div>"
      ],
      "text/plain": [
       "             auc          \n",
       "solver  cholesky       svd\n",
       "alpha                     \n",
       "0.05    0.769521  0.769521\n",
       "0.10    0.769521  0.769521\n",
       "1.00    0.769521  0.769521\n",
       "5.00    0.770768  0.770768\n",
       "10.00   0.770768  0.770768"
      ]
     },
     "execution_count": 43,
     "metadata": {},
     "output_type": "execute_result"
    }
   ],
   "source": [
    "df_scores_pivot = df_scores.pivot(index='alpha', columns=['solver'], values=['auc'])\n",
    "df_scores_pivot"
   ]
  },
  {
   "cell_type": "markdown",
   "id": "74c13779",
   "metadata": {},
   "source": [
    "We see that alpha value doesn't play role in our case. So the total linear regression classifier model is the next"
   ]
  },
  {
   "cell_type": "code",
   "execution_count": 44,
   "id": "9bf36326",
   "metadata": {},
   "outputs": [
    {
     "data": {
      "text/plain": [
       "0.7695213917159055"
      ]
     },
     "execution_count": 44,
     "metadata": {},
     "output_type": "execute_result"
    }
   ],
   "source": [
    "model_lin = RidgeClassifier(solver='svd')\n",
    "model_lin.fit(X_train, y_train)\n",
    "y_pred = model_lin.predict(X_val)\n",
    "popular = (y_pred>=0.5)\n",
    "roc_auc_score(y_val, popular)"
   ]
  },
  {
   "cell_type": "markdown",
   "id": "d49e6358",
   "metadata": {},
   "source": [
    "# 7. Decision tree classifier model, parameters tuning"
   ]
  },
  {
   "cell_type": "code",
   "execution_count": 45,
   "id": "e1b45869",
   "metadata": {},
   "outputs": [],
   "source": [
    "from sklearn.tree import DecisionTreeClassifier"
   ]
  },
  {
   "cell_type": "code",
   "execution_count": 46,
   "id": "b4e6b2c3",
   "metadata": {},
   "outputs": [
    {
     "data": {
      "text/html": [
       "<style>#sk-container-id-2 {color: black;background-color: white;}#sk-container-id-2 pre{padding: 0;}#sk-container-id-2 div.sk-toggleable {background-color: white;}#sk-container-id-2 label.sk-toggleable__label {cursor: pointer;display: block;width: 100%;margin-bottom: 0;padding: 0.3em;box-sizing: border-box;text-align: center;}#sk-container-id-2 label.sk-toggleable__label-arrow:before {content: \"▸\";float: left;margin-right: 0.25em;color: #696969;}#sk-container-id-2 label.sk-toggleable__label-arrow:hover:before {color: black;}#sk-container-id-2 div.sk-estimator:hover label.sk-toggleable__label-arrow:before {color: black;}#sk-container-id-2 div.sk-toggleable__content {max-height: 0;max-width: 0;overflow: hidden;text-align: left;background-color: #f0f8ff;}#sk-container-id-2 div.sk-toggleable__content pre {margin: 0.2em;color: black;border-radius: 0.25em;background-color: #f0f8ff;}#sk-container-id-2 input.sk-toggleable__control:checked~div.sk-toggleable__content {max-height: 200px;max-width: 100%;overflow: auto;}#sk-container-id-2 input.sk-toggleable__control:checked~label.sk-toggleable__label-arrow:before {content: \"▾\";}#sk-container-id-2 div.sk-estimator input.sk-toggleable__control:checked~label.sk-toggleable__label {background-color: #d4ebff;}#sk-container-id-2 div.sk-label input.sk-toggleable__control:checked~label.sk-toggleable__label {background-color: #d4ebff;}#sk-container-id-2 input.sk-hidden--visually {border: 0;clip: rect(1px 1px 1px 1px);clip: rect(1px, 1px, 1px, 1px);height: 1px;margin: -1px;overflow: hidden;padding: 0;position: absolute;width: 1px;}#sk-container-id-2 div.sk-estimator {font-family: monospace;background-color: #f0f8ff;border: 1px dotted black;border-radius: 0.25em;box-sizing: border-box;margin-bottom: 0.5em;}#sk-container-id-2 div.sk-estimator:hover {background-color: #d4ebff;}#sk-container-id-2 div.sk-parallel-item::after {content: \"\";width: 100%;border-bottom: 1px solid gray;flex-grow: 1;}#sk-container-id-2 div.sk-label:hover label.sk-toggleable__label {background-color: #d4ebff;}#sk-container-id-2 div.sk-serial::before {content: \"\";position: absolute;border-left: 1px solid gray;box-sizing: border-box;top: 0;bottom: 0;left: 50%;z-index: 0;}#sk-container-id-2 div.sk-serial {display: flex;flex-direction: column;align-items: center;background-color: white;padding-right: 0.2em;padding-left: 0.2em;position: relative;}#sk-container-id-2 div.sk-item {position: relative;z-index: 1;}#sk-container-id-2 div.sk-parallel {display: flex;align-items: stretch;justify-content: center;background-color: white;position: relative;}#sk-container-id-2 div.sk-item::before, #sk-container-id-2 div.sk-parallel-item::before {content: \"\";position: absolute;border-left: 1px solid gray;box-sizing: border-box;top: 0;bottom: 0;left: 50%;z-index: -1;}#sk-container-id-2 div.sk-parallel-item {display: flex;flex-direction: column;z-index: 1;position: relative;background-color: white;}#sk-container-id-2 div.sk-parallel-item:first-child::after {align-self: flex-end;width: 50%;}#sk-container-id-2 div.sk-parallel-item:last-child::after {align-self: flex-start;width: 50%;}#sk-container-id-2 div.sk-parallel-item:only-child::after {width: 0;}#sk-container-id-2 div.sk-dashed-wrapped {border: 1px dashed gray;margin: 0 0.4em 0.5em 0.4em;box-sizing: border-box;padding-bottom: 0.4em;background-color: white;}#sk-container-id-2 div.sk-label label {font-family: monospace;font-weight: bold;display: inline-block;line-height: 1.2em;}#sk-container-id-2 div.sk-label-container {text-align: center;}#sk-container-id-2 div.sk-container {/* jupyter's `normalize.less` sets `[hidden] { display: none; }` but bootstrap.min.css set `[hidden] { display: none !important; }` so we also need the `!important` here to be able to override the default hidden behavior on the sphinx rendered scikit-learn.org. See: https://github.com/scikit-learn/scikit-learn/issues/21755 */display: inline-block !important;position: relative;}#sk-container-id-2 div.sk-text-repr-fallback {display: none;}</style><div id=\"sk-container-id-2\" class=\"sk-top-container\"><div class=\"sk-text-repr-fallback\"><pre>DecisionTreeClassifier(random_state=1)</pre><b>In a Jupyter environment, please rerun this cell to show the HTML representation or trust the notebook. <br />On GitHub, the HTML representation is unable to render, please try loading this page with nbviewer.org.</b></div><div class=\"sk-container\" hidden><div class=\"sk-item\"><div class=\"sk-estimator sk-toggleable\"><input class=\"sk-toggleable__control sk-hidden--visually\" id=\"sk-estimator-id-2\" type=\"checkbox\" checked><label for=\"sk-estimator-id-2\" class=\"sk-toggleable__label sk-toggleable__label-arrow\">DecisionTreeClassifier</label><div class=\"sk-toggleable__content\"><pre>DecisionTreeClassifier(random_state=1)</pre></div></div></div></div></div>"
      ],
      "text/plain": [
       "DecisionTreeClassifier(random_state=1)"
      ]
     },
     "execution_count": 46,
     "metadata": {},
     "output_type": "execute_result"
    }
   ],
   "source": [
    "dt = DecisionTreeClassifier(random_state=1)\n",
    "dt.fit(X_train, y_train)"
   ]
  },
  {
   "cell_type": "code",
   "execution_count": 47,
   "id": "803b3d6e",
   "metadata": {},
   "outputs": [
    {
     "data": {
      "text/plain": [
       "0.6807830274164439"
      ]
     },
     "execution_count": 47,
     "metadata": {},
     "output_type": "execute_result"
    }
   ],
   "source": [
    "y_pred = dt.predict_proba(X_val)[:, 1]\n",
    "roc_auc_score(y_val, y_pred)"
   ]
  },
  {
   "cell_type": "code",
   "execution_count": 48,
   "id": "52558cfb",
   "metadata": {},
   "outputs": [
    {
     "name": "stdout",
     "output_type": "stream",
     "text": [
      "depth   roc-auc\n",
      "   1     0.707\n",
      "   2     0.755\n",
      "   3     0.808\n",
      "   4     0.813\n",
      "   5     0.813\n",
      "   6     0.808\n",
      "   7     0.798\n",
      "   8     0.780\n",
      "   9     0.772\n",
      "  10     0.760\n"
     ]
    }
   ],
   "source": [
    "print('depth   roc-auc')\n",
    "for depth in range(1, 11, 1): \n",
    "    dt = DecisionTreeClassifier(max_depth=depth, random_state=1)\n",
    "    dt.fit(X_train, y_train)\n",
    "    \n",
    "    y_pred = dt.predict_proba(X_val)[:, 1]\n",
    "    auc = roc_auc_score(y_val, y_pred)\n",
    "    \n",
    "    print('%4s     %.3f' % (depth, auc))"
   ]
  },
  {
   "cell_type": "markdown",
   "id": "e7f6f522",
   "metadata": {},
   "source": [
    "From the results obtained we see that best ROC-AUC score is for depth = [4, 5]. Now let's find optimal min_samples_leaf"
   ]
  },
  {
   "cell_type": "code",
   "execution_count": 49,
   "id": "a00fa985",
   "metadata": {},
   "outputs": [],
   "source": [
    "scores = []\n",
    "\n",
    "for depth in [4, 5]:\n",
    "    for s in [1, 5, 10, 15, 20, 50, 100, 200]:\n",
    "        dt = DecisionTreeClassifier(max_depth=depth, min_samples_leaf=s, random_state=1)\n",
    "        dt.fit(X_train, y_train)\n",
    "\n",
    "        y_pred = dt.predict_proba(X_val)[:, 1]\n",
    "        auc = roc_auc_score(y_val, y_pred)\n",
    "        \n",
    "        scores.append((depth, s, auc))"
   ]
  },
  {
   "cell_type": "code",
   "execution_count": 50,
   "id": "c8bcf39a",
   "metadata": {},
   "outputs": [],
   "source": [
    "columns = ['max_depth', 'min_samples_leaf', 'auc']\n",
    "df_scores = pd.DataFrame(scores, columns=columns)"
   ]
  },
  {
   "cell_type": "code",
   "execution_count": 51,
   "id": "034cdb4d",
   "metadata": {
    "scrolled": true
   },
   "outputs": [
    {
     "data": {
      "text/html": [
       "<div>\n",
       "<style scoped>\n",
       "    .dataframe tbody tr th:only-of-type {\n",
       "        vertical-align: middle;\n",
       "    }\n",
       "\n",
       "    .dataframe tbody tr th {\n",
       "        vertical-align: top;\n",
       "    }\n",
       "\n",
       "    .dataframe thead tr th {\n",
       "        text-align: left;\n",
       "    }\n",
       "\n",
       "    .dataframe thead tr:last-of-type th {\n",
       "        text-align: right;\n",
       "    }\n",
       "</style>\n",
       "<table border=\"1\" class=\"dataframe\">\n",
       "  <thead>\n",
       "    <tr>\n",
       "      <th></th>\n",
       "      <th colspan=\"2\" halign=\"left\">auc</th>\n",
       "    </tr>\n",
       "    <tr>\n",
       "      <th>max_depth</th>\n",
       "      <th>4</th>\n",
       "      <th>5</th>\n",
       "    </tr>\n",
       "    <tr>\n",
       "      <th>min_samples_leaf</th>\n",
       "      <th></th>\n",
       "      <th></th>\n",
       "    </tr>\n",
       "  </thead>\n",
       "  <tbody>\n",
       "    <tr>\n",
       "      <th>1</th>\n",
       "      <td>0.813</td>\n",
       "      <td>0.813</td>\n",
       "    </tr>\n",
       "    <tr>\n",
       "      <th>5</th>\n",
       "      <td>0.816</td>\n",
       "      <td>0.817</td>\n",
       "    </tr>\n",
       "    <tr>\n",
       "      <th>10</th>\n",
       "      <td>0.820</td>\n",
       "      <td>0.824</td>\n",
       "    </tr>\n",
       "    <tr>\n",
       "      <th>15</th>\n",
       "      <td>0.821</td>\n",
       "      <td>0.824</td>\n",
       "    </tr>\n",
       "    <tr>\n",
       "      <th>20</th>\n",
       "      <td>0.815</td>\n",
       "      <td>0.823</td>\n",
       "    </tr>\n",
       "    <tr>\n",
       "      <th>50</th>\n",
       "      <td>0.804</td>\n",
       "      <td>0.812</td>\n",
       "    </tr>\n",
       "    <tr>\n",
       "      <th>100</th>\n",
       "      <td>0.776</td>\n",
       "      <td>0.779</td>\n",
       "    </tr>\n",
       "    <tr>\n",
       "      <th>200</th>\n",
       "      <td>0.775</td>\n",
       "      <td>0.775</td>\n",
       "    </tr>\n",
       "  </tbody>\n",
       "</table>\n",
       "</div>"
      ],
      "text/plain": [
       "                    auc       \n",
       "max_depth             4      5\n",
       "min_samples_leaf              \n",
       "1                 0.813  0.813\n",
       "5                 0.816  0.817\n",
       "10                0.820  0.824\n",
       "15                0.821  0.824\n",
       "20                0.815  0.823\n",
       "50                0.804  0.812\n",
       "100               0.776  0.779\n",
       "200               0.775  0.775"
      ]
     },
     "execution_count": 51,
     "metadata": {},
     "output_type": "execute_result"
    }
   ],
   "source": [
    "df_scores_pivot = df_scores.pivot(index='min_samples_leaf', columns=['max_depth'], values=['auc'])\n",
    "df_scores_pivot.round(3)"
   ]
  },
  {
   "cell_type": "code",
   "execution_count": 52,
   "id": "0ee44789",
   "metadata": {
    "scrolled": true
   },
   "outputs": [
    {
     "data": {
      "text/plain": [
       "<AxesSubplot: xlabel='None-max_depth', ylabel='min_samples_leaf'>"
      ]
     },
     "execution_count": 52,
     "metadata": {},
     "output_type": "execute_result"
    },
    {
     "data": {
      "image/png": "[encoded data removed]",
      "text/plain": [
       "<Figure size 640x480 with 2 Axes>"
      ]
     },
     "metadata": {},
     "output_type": "display_data"
    }
   ],
   "source": [
    "sns.heatmap(df_scores_pivot, annot=True, fmt=\".3f\")"
   ]
  },
  {
   "cell_type": "markdown",
   "id": "4a3d5a78",
   "metadata": {},
   "source": [
    "We obtained that the best decision tree model has the next parameters: depth = 5 and min_samples_leaf = 10. A final decision tree classifier model is build with above described parameters."
   ]
  },
  {
   "cell_type": "code",
   "execution_count": 53,
   "id": "25d260cf",
   "metadata": {},
   "outputs": [
    {
     "data": {
      "text/html": [
       "<style>#sk-container-id-3 {color: black;background-color: white;}#sk-container-id-3 pre{padding: 0;}#sk-container-id-3 div.sk-toggleable {background-color: white;}#sk-container-id-3 label.sk-toggleable__label {cursor: pointer;display: block;width: 100%;margin-bottom: 0;padding: 0.3em;box-sizing: border-box;text-align: center;}#sk-container-id-3 label.sk-toggleable__label-arrow:before {content: \"▸\";float: left;margin-right: 0.25em;color: #696969;}#sk-container-id-3 label.sk-toggleable__label-arrow:hover:before {color: black;}#sk-container-id-3 div.sk-estimator:hover label.sk-toggleable__label-arrow:before {color: black;}#sk-container-id-3 div.sk-toggleable__content {max-height: 0;max-width: 0;overflow: hidden;text-align: left;background-color: #f0f8ff;}#sk-container-id-3 div.sk-toggleable__content pre {margin: 0.2em;color: black;border-radius: 0.25em;background-color: #f0f8ff;}#sk-container-id-3 input.sk-toggleable__control:checked~div.sk-toggleable__content {max-height: 200px;max-width: 100%;overflow: auto;}#sk-container-id-3 input.sk-toggleable__control:checked~label.sk-toggleable__label-arrow:before {content: \"▾\";}#sk-container-id-3 div.sk-estimator input.sk-toggleable__control:checked~label.sk-toggleable__label {background-color: #d4ebff;}#sk-container-id-3 div.sk-label input.sk-toggleable__control:checked~label.sk-toggleable__label {background-color: #d4ebff;}#sk-container-id-3 input.sk-hidden--visually {border: 0;clip: rect(1px 1px 1px 1px);clip: rect(1px, 1px, 1px, 1px);height: 1px;margin: -1px;overflow: hidden;padding: 0;position: absolute;width: 1px;}#sk-container-id-3 div.sk-estimator {font-family: monospace;background-color: #f0f8ff;border: 1px dotted black;border-radius: 0.25em;box-sizing: border-box;margin-bottom: 0.5em;}#sk-container-id-3 div.sk-estimator:hover {background-color: #d4ebff;}#sk-container-id-3 div.sk-parallel-item::after {content: \"\";width: 100%;border-bottom: 1px solid gray;flex-grow: 1;}#sk-container-id-3 div.sk-label:hover label.sk-toggleable__label {background-color: #d4ebff;}#sk-container-id-3 div.sk-serial::before {content: \"\";position: absolute;border-left: 1px solid gray;box-sizing: border-box;top: 0;bottom: 0;left: 50%;z-index: 0;}#sk-container-id-3 div.sk-serial {display: flex;flex-direction: column;align-items: center;background-color: white;padding-right: 0.2em;padding-left: 0.2em;position: relative;}#sk-container-id-3 div.sk-item {position: relative;z-index: 1;}#sk-container-id-3 div.sk-parallel {display: flex;align-items: stretch;justify-content: center;background-color: white;position: relative;}#sk-container-id-3 div.sk-item::before, #sk-container-id-3 div.sk-parallel-item::before {content: \"\";position: absolute;border-left: 1px solid gray;box-sizing: border-box;top: 0;bottom: 0;left: 50%;z-index: -1;}#sk-container-id-3 div.sk-parallel-item {display: flex;flex-direction: column;z-index: 1;position: relative;background-color: white;}#sk-container-id-3 div.sk-parallel-item:first-child::after {align-self: flex-end;width: 50%;}#sk-container-id-3 div.sk-parallel-item:last-child::after {align-self: flex-start;width: 50%;}#sk-container-id-3 div.sk-parallel-item:only-child::after {width: 0;}#sk-container-id-3 div.sk-dashed-wrapped {border: 1px dashed gray;margin: 0 0.4em 0.5em 0.4em;box-sizing: border-box;padding-bottom: 0.4em;background-color: white;}#sk-container-id-3 div.sk-label label {font-family: monospace;font-weight: bold;display: inline-block;line-height: 1.2em;}#sk-container-id-3 div.sk-label-container {text-align: center;}#sk-container-id-3 div.sk-container {/* jupyter's `normalize.less` sets `[hidden] { display: none; }` but bootstrap.min.css set `[hidden] { display: none !important; }` so we also need the `!important` here to be able to override the default hidden behavior on the sphinx rendered scikit-learn.org. See: https://github.com/scikit-learn/scikit-learn/issues/21755 */display: inline-block !important;position: relative;}#sk-container-id-3 div.sk-text-repr-fallback {display: none;}</style><div id=\"sk-container-id-3\" class=\"sk-top-container\"><div class=\"sk-text-repr-fallback\"><pre>DecisionTreeClassifier(max_depth=5, min_samples_leaf=10, random_state=1)</pre><b>In a Jupyter environment, please rerun this cell to show the HTML representation or trust the notebook. <br />On GitHub, the HTML representation is unable to render, please try loading this page with nbviewer.org.</b></div><div class=\"sk-container\" hidden><div class=\"sk-item\"><div class=\"sk-estimator sk-toggleable\"><input class=\"sk-toggleable__control sk-hidden--visually\" id=\"sk-estimator-id-3\" type=\"checkbox\" checked><label for=\"sk-estimator-id-3\" class=\"sk-toggleable__label sk-toggleable__label-arrow\">DecisionTreeClassifier</label><div class=\"sk-toggleable__content\"><pre>DecisionTreeClassifier(max_depth=5, min_samples_leaf=10, random_state=1)</pre></div></div></div></div></div>"
      ],
      "text/plain": [
       "DecisionTreeClassifier(max_depth=5, min_samples_leaf=10, random_state=1)"
      ]
     },
     "execution_count": 53,
     "metadata": {},
     "output_type": "execute_result"
    }
   ],
   "source": [
    "dt = DecisionTreeClassifier(max_depth=5, min_samples_leaf=10, random_state=1)\n",
    "dt.fit(X_train, y_train)"
   ]
  },
  {
   "cell_type": "code",
   "execution_count": 54,
   "id": "5022923e",
   "metadata": {},
   "outputs": [
    {
     "data": {
      "text/plain": [
       "0.8243804902159015"
      ]
     },
     "execution_count": 54,
     "metadata": {},
     "output_type": "execute_result"
    }
   ],
   "source": [
    "y_pred = dt.predict_proba(X_val)[:, 1]\n",
    "roc_auc_score(y_val, y_pred)"
   ]
  },
  {
   "cell_type": "markdown",
   "id": "5f802b2b",
   "metadata": {},
   "source": [
    "# 8. Random forest classifier, parameters tuning"
   ]
  },
  {
   "cell_type": "code",
   "execution_count": 55,
   "id": "508ce76b",
   "metadata": {},
   "outputs": [],
   "source": [
    "from sklearn.ensemble import RandomForestClassifier"
   ]
  },
  {
   "cell_type": "code",
   "execution_count": 56,
   "id": "ea3d0123",
   "metadata": {},
   "outputs": [
    {
     "data": {
      "text/plain": [
       "0.8246875304231913"
      ]
     },
     "execution_count": 56,
     "metadata": {},
     "output_type": "execute_result"
    }
   ],
   "source": [
    "rf = RandomForestClassifier(random_state=1)\n",
    "rf.fit(X_train, y_train)\n",
    "\n",
    "y_pred = rf.predict_proba(X_val)[:, 1]\n",
    "roc_auc_score(y_val, y_pred)"
   ]
  },
  {
   "cell_type": "markdown",
   "id": "4717a867",
   "metadata": {},
   "source": [
    "Let's also tune parameters of this model: n_estimators, max_depth and min_sample_leaf"
   ]
  },
  {
   "cell_type": "code",
   "execution_count": 57,
   "id": "d6440bb7",
   "metadata": {},
   "outputs": [],
   "source": [
    "scores = []\n",
    "\n",
    "for d in range(1, 15, 4):\n",
    "    for n in range(10, 201, 10):\n",
    "        rf = RandomForestClassifier(n_estimators=n,\n",
    "                                    max_depth=d,\n",
    "                                    random_state=1)\n",
    "        rf.fit(X_train, y_train)\n",
    "\n",
    "        y_pred = rf.predict_proba(X_val)[:, 1]\n",
    "        auc = roc_auc_score(y_val, y_pred)\n",
    "\n",
    "        scores.append((d, n, auc))"
   ]
  },
  {
   "cell_type": "code",
   "execution_count": 58,
   "id": "01071da2",
   "metadata": {},
   "outputs": [],
   "source": [
    "columns = ['max_depth', 'n_estimators', 'auc']\n",
    "df_scores = pd.DataFrame(scores, columns=columns)"
   ]
  },
  {
   "cell_type": "code",
   "execution_count": 59,
   "id": "591add6b",
   "metadata": {},
   "outputs": [
    {
     "data": {
      "text/plain": [
       "<matplotlib.legend.Legend at 0x20419f6edc0>"
      ]
     },
     "execution_count": 59,
     "metadata": {},
     "output_type": "execute_result"
    },
    {
     "data": {
      "image/png": "[encoded data removed]",
      "text/plain": [
       "<Figure size 640x480 with 1 Axes>"
      ]
     },
     "metadata": {},
     "output_type": "display_data"
    }
   ],
   "source": [
    "for d in range(1, 15, 4):\n",
    "    df_subset = df_scores[df_scores.max_depth == d]\n",
    "    \n",
    "    plt.plot(df_subset.n_estimators, df_subset.auc,\n",
    "             label='max_depth=%d' % d)\n",
    "\n",
    "plt.legend()"
   ]
  },
  {
   "cell_type": "markdown",
   "id": "67713bd6",
   "metadata": {},
   "source": [
    "It's shown that ROC-AUC values for max_depth=[9, 13] are close, but max_depth=9 is a little bit better."
   ]
  },
  {
   "cell_type": "markdown",
   "id": "fbb630e9",
   "metadata": {},
   "source": [
    "Now we'll tune min_sample_leaf parameter"
   ]
  },
  {
   "cell_type": "code",
   "execution_count": 60,
   "id": "0da29563",
   "metadata": {},
   "outputs": [],
   "source": [
    "scores = []\n",
    "\n",
    "for s in [1, 3, 5, 7, 9]:\n",
    "    for n in range(10, 201, 10):\n",
    "        rf = RandomForestClassifier(n_estimators=n,\n",
    "                                    max_depth=9,\n",
    "                                    min_samples_leaf=s,\n",
    "                                    random_state=1)\n",
    "        rf.fit(X_train, y_train)\n",
    "\n",
    "        y_pred = rf.predict_proba(X_val)[:, 1]\n",
    "        auc = roc_auc_score(y_val, y_pred)\n",
    "\n",
    "        scores.append((s, n, auc))"
   ]
  },
  {
   "cell_type": "code",
   "execution_count": 61,
   "id": "d5c051cd",
   "metadata": {},
   "outputs": [],
   "source": [
    "columns = ['min_samples_leaf', 'n_estimators', 'auc']\n",
    "df_scores = pd.DataFrame(scores, columns=columns)"
   ]
  },
  {
   "cell_type": "code",
   "execution_count": 62,
   "id": "1ddc5326",
   "metadata": {},
   "outputs": [
    {
     "data": {
      "text/plain": [
       "<matplotlib.legend.Legend at 0x204179ad040>"
      ]
     },
     "execution_count": 62,
     "metadata": {},
     "output_type": "execute_result"
    },
    {
     "data": {
      "image/png": "[encoded data removed]",
      "text/plain": [
       "<Figure size 640x480 with 1 Axes>"
      ]
     },
     "metadata": {},
     "output_type": "display_data"
    }
   ],
   "source": [
    "colors = ['green', 'blue', 'orange', 'black', 'red']\n",
    "values = [1, 3, 5, 7, 9]\n",
    "\n",
    "for s, col in zip(values, colors):\n",
    "    df_subset = df_scores[df_scores.min_samples_leaf == s]\n",
    "    \n",
    "    plt.plot(df_subset.n_estimators, df_subset.auc,\n",
    "             color=col,\n",
    "             label='min_samples_leaf=%d' % s)\n",
    "\n",
    "plt.legend()"
   ]
  },
  {
   "cell_type": "markdown",
   "id": "385889c9",
   "metadata": {},
   "source": [
    "We see that best results are obtained for min_samplwes_leaf=3. And there is an optimal number of n_estimators between 130 and 160. Let's determine it"
   ]
  },
  {
   "cell_type": "code",
   "execution_count": 63,
   "id": "2c6caa18",
   "metadata": {},
   "outputs": [],
   "source": [
    "scores = []\n",
    "\n",
    "for n in range(130, 161, 1):\n",
    "    rf = RandomForestClassifier(n_estimators=n,\n",
    "                                max_depth=9,\n",
    "                                min_samples_leaf=3,\n",
    "                                random_state=1)\n",
    "    rf.fit(X_train, y_train)\n",
    "\n",
    "    y_pred = rf.predict_proba(X_val)[:, 1]\n",
    "    auc = roc_auc_score(y_val, y_pred)\n",
    "    \n",
    "    scores.append((n, auc))"
   ]
  },
  {
   "cell_type": "code",
   "execution_count": 64,
   "id": "31e4aab4",
   "metadata": {},
   "outputs": [
    {
     "data": {
      "text/plain": [
       "[(130, 0.8379726359776235),\n",
       " (131, 0.8380999453318655),\n",
       " (132, 0.8378078826956632),\n",
       " (133, 0.8379801247631671),\n",
       " (134, 0.8378153714812069),\n",
       " (135, 0.838152366830671),\n",
       " (136, 0.838002591119798),\n",
       " (137, 0.8380325462619729),\n",
       " (138, 0.8381523668306711),\n",
       " (139, 0.8381598556162146),\n",
       " (140, 0.8382871649704567),\n",
       " (141, 0.8381074341174093),\n",
       " (142, 0.8380550126186037),\n",
       " (143, 0.8382197659005639),\n",
       " (144, 0.8380175686908854),\n",
       " (145, 0.8380400350475165),\n",
       " (146, 0.8381823219728456),\n",
       " (147, 0.8379651471920799),\n",
       " (148, 0.8383395864692622),\n",
       " (149, 0.8382646986138257),\n",
       " (150, 0.8382197659005638),\n",
       " (151, 0.8381598556162148),\n",
       " (152, 0.8380849677607782),\n",
       " (153, 0.8379951023342544),\n",
       " (154, 0.8378677929800125),\n",
       " (155, 0.8377329948402268),\n",
       " (156, 0.8375682415582666),\n",
       " (157, 0.8373660443485879),\n",
       " (158, 0.837366044348588),\n",
       " (159, 0.8373885107052188),\n",
       " (160, 0.8373510667775007)]"
      ]
     },
     "execution_count": 64,
     "metadata": {},
     "output_type": "execute_result"
    }
   ],
   "source": [
    "scores"
   ]
  },
  {
   "cell_type": "markdown",
   "id": "a2d78a91",
   "metadata": {},
   "source": [
    "ROC-AUC score has the closest to 1 value for n_estimators=148. So a final random forest classifier model is the next"
   ]
  },
  {
   "cell_type": "code",
   "execution_count": 65,
   "id": "f4d2e93b",
   "metadata": {},
   "outputs": [
    {
     "data": {
      "text/plain": [
       "0.8383395864692622"
      ]
     },
     "execution_count": 65,
     "metadata": {},
     "output_type": "execute_result"
    }
   ],
   "source": [
    "rf = RandomForestClassifier(n_estimators=148,\n",
    "                            max_depth=9,\n",
    "                            min_samples_leaf=3,\n",
    "                            random_state=1)\n",
    "rf.fit(X_train, y_train)\n",
    "\n",
    "y_pred = rf.predict_proba(X_val)[:, 1]\n",
    "roc_auc_score(y_val, y_pred)"
   ]
  },
  {
   "cell_type": "markdown",
   "id": "0da78949",
   "metadata": {},
   "source": [
    "# 9. Final model"
   ]
  },
  {
   "cell_type": "markdown",
   "id": "9f228a5f",
   "metadata": {},
   "source": [
    "Three classifier models are built:<br> - linear regression classifier model ***model_lin***. It's ROC-AUC score is equal to 0.7695 on validation dataset <br> - decision tree classifier model ***dt***. It's ROC-AUC score is equal to 0.824 on validation dataset <br> - random forest classifier model ***rf***. It's ROC-AUC score is equal to 0.838 on validation dataset"
   ]
  },
  {
   "cell_type": "markdown",
   "id": "e649abd7",
   "metadata": {},
   "source": [
    "On the base of ROC-AUC score we select as final model random forest classifier model with previously tuned parameters. Now we'll train this model on train+validation dataset"
   ]
  },
  {
   "cell_type": "code",
   "execution_count": 66,
   "id": "2950116c",
   "metadata": {},
   "outputs": [],
   "source": [
    "df_full_train = df_full_train.reset_index(drop=True)\n",
    "\n",
    "y_full_train = df_full_train.popularity.values\n",
    "\n",
    "del df_full_train['popularity']"
   ]
  },
  {
   "cell_type": "code",
   "execution_count": 67,
   "id": "fb385896",
   "metadata": {},
   "outputs": [],
   "source": [
    "y_full_train = target_handle(y_full_train)"
   ]
  },
  {
   "cell_type": "code",
   "execution_count": 68,
   "id": "4b2b1102",
   "metadata": {},
   "outputs": [],
   "source": [
    "dv = DictVectorizer(sparse=False)\n",
    "\n",
    "train_dict = df_full_train.to_dict(orient='records')\n",
    "X_full_train = dv.fit_transform(train_dict)\n",
    "\n",
    "test_dict = df_test.to_dict(orient='records')\n",
    "X_test = dv.transform(test_dict)"
   ]
  },
  {
   "cell_type": "code",
   "execution_count": 69,
   "id": "34894d9a",
   "metadata": {},
   "outputs": [
    {
     "data": {
      "text/plain": [
       "0.835135135135135"
      ]
     },
     "execution_count": 69,
     "metadata": {},
     "output_type": "execute_result"
    }
   ],
   "source": [
    "rf.fit(X_full_train, y_full_train)\n",
    "\n",
    "y_pred = rf.predict_proba(X_test)[:, 1]\n",
    "roc_auc_score(y_test, y_pred)"
   ]
  },
  {
   "cell_type": "markdown",
   "id": "f0025136",
   "metadata": {},
   "source": [
    "We obtained that our model works on test dataset after training on train+validation dataset. It's ROC-AUC score became a little bit lower, but still better than ones for linear regression and decision tree models."
   ]
  },
  {
   "cell_type": "markdown",
   "id": "cc8398fd",
   "metadata": {},
   "source": [
    "# Conclusion"
   ]
  },
  {
   "cell_type": "markdown",
   "id": "5e95424b",
   "metadata": {},
   "source": [
    "1. Dataset preparation and cleaning were performed. In this project a \"popularity\" of a course were defined as a ratio of a number of subscribers to an age of a course. An \"age\" of a course was defined as a difference between the date of uploading of a course (published_timestamp) and the date of data scraping. During the analysis of popularity distribution we obtained that there were 8 observations with extremely high popularity (0.2% of all dataset). They all were from \"web development\" area (0.67% of all courses from this area). As the percentage of extremely popular courses was not high we considered them as outliers and dropped out of a consideration."
   ]
  },
  {
   "cell_type": "markdown",
   "id": "6ebe5a3f",
   "metadata": {},
   "source": [
    "2. Exploratory data analysis (EDA) was performed. It was obtained that the distribution of a target value 'popularity' is similar to a Poisson distribution. In this project target variable mean value depends significantly from just a few observations (most popular courses). In this case we set median value as a threshold to consider courses popular/unpopular, i.e. a course is considered to be popular if it's popularity is greater then median of all courses'popularities. Thus 'popularity' target variable was converted to variable with 0/1 values.<br> Based on the business task modeling was performed for the next features ['course_id', 'is_paid', 'price', 'num_lectures', 'level', 'content_duration', 'subject'] and target variable 'popularity'."
   ]
  },
  {
   "cell_type": "markdown",
   "id": "6d97ded3",
   "metadata": {},
   "source": [
    "3. Feature importance analysis was also performed in the frame of EDA. It was obtained that a target value 'popularity' depends significantly of a 'subject' of a course. The fact of whether is course free of charge or not plays less important role. And the level of a course effects just slightly on a target value 'popularity'. Correlation analysis showed that 'price', 'content_duration' and 'num_lectures' effect on a target value almost equally. But their effect is not significant."
   ]
  },
  {
   "cell_type": "markdown",
   "id": "125ad2ce",
   "metadata": {},
   "source": [
    "4. Three classifier models are built:\n",
    "- linear regression classifier model with tuned parameters. It's ROC-AUC score is equal to 0.770 on validation dataset\n",
    "- decision tree classifier model with tuned parameters. It's ROC-AUC score is equal to 0.824 on validation dataset\n",
    "- random forest classifier model with tuned parameters. It's ROC-AUC score is equal to 0.838 on validation dataset"
   ]
  },
  {
   "cell_type": "markdown",
   "id": "ae020e5e",
   "metadata": {},
   "source": [
    "5. Random forest classifier model is selected as a final model. It's parameters: <br> *n_estimators* = 148, <br> *max_depth* = 9, <br> *min_samples_leaf* = 3 <br> The model was trained on test+validation dataset and showed ROC-AUC score of 0.835 on test dataset"
   ]
  },
  {
   "cell_type": "markdown",
   "id": "90326c45",
   "metadata": {},
   "source": [
    "saving the model"
   ]
  },
  {
   "cell_type": "code",
   "execution_count": 70,
   "id": "32ba7606",
   "metadata": {},
   "outputs": [],
   "source": [
    "import pickle"
   ]
  },
  {
   "cell_type": "code",
   "execution_count": 71,
   "id": "3618f284",
   "metadata": {},
   "outputs": [],
   "source": [
    "output_file = 'model.bin'"
   ]
  },
  {
   "cell_type": "code",
   "execution_count": 72,
   "id": "d6a9392f",
   "metadata": {},
   "outputs": [],
   "source": [
    "with open(output_file, 'wb') as f_out: \n",
    "    pickle.dump((dv, rf), f_out)"
   ]
  },
  {
   "cell_type": "markdown",
   "id": "2b8ebf7f",
   "metadata": {},
   "source": [
    "loading the model"
   ]
  },
  {
   "cell_type": "code",
   "execution_count": 73,
   "id": "84a33bbb",
   "metadata": {},
   "outputs": [],
   "source": [
    "import pickle"
   ]
  },
  {
   "cell_type": "code",
   "execution_count": 74,
   "id": "d07b9d83",
   "metadata": {},
   "outputs": [],
   "source": [
    "input_file = 'model.bin'"
   ]
  },
  {
   "cell_type": "code",
   "execution_count": 75,
   "id": "a877375b",
   "metadata": {},
   "outputs": [],
   "source": [
    "with open(input_file, 'rb') as f_in: \n",
    "    dv, model = pickle.load(f_in)"
   ]
  },
  {
   "cell_type": "code",
   "execution_count": 76,
   "id": "32bd392f",
   "metadata": {},
   "outputs": [
    {
     "data": {
      "text/html": [
       "<style>#sk-container-id-4 {color: black;background-color: white;}#sk-container-id-4 pre{padding: 0;}#sk-container-id-4 div.sk-toggleable {background-color: white;}#sk-container-id-4 label.sk-toggleable__label {cursor: pointer;display: block;width: 100%;margin-bottom: 0;padding: 0.3em;box-sizing: border-box;text-align: center;}#sk-container-id-4 label.sk-toggleable__label-arrow:before {content: \"▸\";float: left;margin-right: 0.25em;color: #696969;}#sk-container-id-4 label.sk-toggleable__label-arrow:hover:before {color: black;}#sk-container-id-4 div.sk-estimator:hover label.sk-toggleable__label-arrow:before {color: black;}#sk-container-id-4 div.sk-toggleable__content {max-height: 0;max-width: 0;overflow: hidden;text-align: left;background-color: #f0f8ff;}#sk-container-id-4 div.sk-toggleable__content pre {margin: 0.2em;color: black;border-radius: 0.25em;background-color: #f0f8ff;}#sk-container-id-4 input.sk-toggleable__control:checked~div.sk-toggleable__content {max-height: 200px;max-width: 100%;overflow: auto;}#sk-container-id-4 input.sk-toggleable__control:checked~label.sk-toggleable__label-arrow:before {content: \"▾\";}#sk-container-id-4 div.sk-estimator input.sk-toggleable__control:checked~label.sk-toggleable__label {background-color: #d4ebff;}#sk-container-id-4 div.sk-label input.sk-toggleable__control:checked~label.sk-toggleable__label {background-color: #d4ebff;}#sk-container-id-4 input.sk-hidden--visually {border: 0;clip: rect(1px 1px 1px 1px);clip: rect(1px, 1px, 1px, 1px);height: 1px;margin: -1px;overflow: hidden;padding: 0;position: absolute;width: 1px;}#sk-container-id-4 div.sk-estimator {font-family: monospace;background-color: #f0f8ff;border: 1px dotted black;border-radius: 0.25em;box-sizing: border-box;margin-bottom: 0.5em;}#sk-container-id-4 div.sk-estimator:hover {background-color: #d4ebff;}#sk-container-id-4 div.sk-parallel-item::after {content: \"\";width: 100%;border-bottom: 1px solid gray;flex-grow: 1;}#sk-container-id-4 div.sk-label:hover label.sk-toggleable__label {background-color: #d4ebff;}#sk-container-id-4 div.sk-serial::before {content: \"\";position: absolute;border-left: 1px solid gray;box-sizing: border-box;top: 0;bottom: 0;left: 50%;z-index: 0;}#sk-container-id-4 div.sk-serial {display: flex;flex-direction: column;align-items: center;background-color: white;padding-right: 0.2em;padding-left: 0.2em;position: relative;}#sk-container-id-4 div.sk-item {position: relative;z-index: 1;}#sk-container-id-4 div.sk-parallel {display: flex;align-items: stretch;justify-content: center;background-color: white;position: relative;}#sk-container-id-4 div.sk-item::before, #sk-container-id-4 div.sk-parallel-item::before {content: \"\";position: absolute;border-left: 1px solid gray;box-sizing: border-box;top: 0;bottom: 0;left: 50%;z-index: -1;}#sk-container-id-4 div.sk-parallel-item {display: flex;flex-direction: column;z-index: 1;position: relative;background-color: white;}#sk-container-id-4 div.sk-parallel-item:first-child::after {align-self: flex-end;width: 50%;}#sk-container-id-4 div.sk-parallel-item:last-child::after {align-self: flex-start;width: 50%;}#sk-container-id-4 div.sk-parallel-item:only-child::after {width: 0;}#sk-container-id-4 div.sk-dashed-wrapped {border: 1px dashed gray;margin: 0 0.4em 0.5em 0.4em;box-sizing: border-box;padding-bottom: 0.4em;background-color: white;}#sk-container-id-4 div.sk-label label {font-family: monospace;font-weight: bold;display: inline-block;line-height: 1.2em;}#sk-container-id-4 div.sk-label-container {text-align: center;}#sk-container-id-4 div.sk-container {/* jupyter's `normalize.less` sets `[hidden] { display: none; }` but bootstrap.min.css set `[hidden] { display: none !important; }` so we also need the `!important` here to be able to override the default hidden behavior on the sphinx rendered scikit-learn.org. See: https://github.com/scikit-learn/scikit-learn/issues/21755 */display: inline-block !important;position: relative;}#sk-container-id-4 div.sk-text-repr-fallback {display: none;}</style><div id=\"sk-container-id-4\" class=\"sk-top-container\"><div class=\"sk-text-repr-fallback\"><pre>RandomForestClassifier(max_depth=9, min_samples_leaf=3, n_estimators=148,\n",
       "                       random_state=1)</pre><b>In a Jupyter environment, please rerun this cell to show the HTML representation or trust the notebook. <br />On GitHub, the HTML representation is unable to render, please try loading this page with nbviewer.org.</b></div><div class=\"sk-container\" hidden><div class=\"sk-item\"><div class=\"sk-estimator sk-toggleable\"><input class=\"sk-toggleable__control sk-hidden--visually\" id=\"sk-estimator-id-4\" type=\"checkbox\" checked><label for=\"sk-estimator-id-4\" class=\"sk-toggleable__label sk-toggleable__label-arrow\">RandomForestClassifier</label><div class=\"sk-toggleable__content\"><pre>RandomForestClassifier(max_depth=9, min_samples_leaf=3, n_estimators=148,\n",
       "                       random_state=1)</pre></div></div></div></div></div>"
      ],
      "text/plain": [
       "RandomForestClassifier(max_depth=9, min_samples_leaf=3, n_estimators=148,\n",
       "                       random_state=1)"
      ]
     },
     "execution_count": 76,
     "metadata": {},
     "output_type": "execute_result"
    }
   ],
   "source": [
    "model"
   ]
  }
 ],
 "metadata": {
  "kernelspec": {
   "display_name": "Python 3 (ipykernel)",
   "language": "python",
   "name": "python3"
  },
  "language_info": {
   "codemirror_mode": {
    "name": "ipython",
    "version": 3
   },
   "file_extension": ".py",
   "mimetype": "text/x-python",
   "name": "python",
   "nbconvert_exporter": "python",
   "pygments_lexer": "ipython3",
   "version": "3.9.7"
  }
 },
 "nbformat": 4,
 "nbformat_minor": 5
}
