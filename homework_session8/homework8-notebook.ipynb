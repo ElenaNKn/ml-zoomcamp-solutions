{
 "cells": [
  {
   "cell_type": "markdown",
   "id": "48342762-5076-42c2-ba2d-9f0617a4808f",
   "metadata": {},
   "source": [
    "# Homework to Session 8. Neural Networks and Deep Learning"
   ]
  },
  {
   "cell_type": "code",
   "execution_count": 1,
   "id": "3efeec92-8b8f-49d8-9d18-e32d8a8cabf1",
   "metadata": {},
   "outputs": [],
   "source": [
    "import urllib.request\n",
    "import numpy as np\n",
    "import tensorflow as tf"
   ]
  },
  {
   "cell_type": "code",
   "execution_count": null,
   "id": "04a300a2-87d7-4fc0-b4cd-2925a804cffd",
   "metadata": {},
   "outputs": [],
   "source": [
    "! mkdir data"
   ]
  },
  {
   "cell_type": "markdown",
   "id": "b4570156-0e05-429e-97c2-15b947844785",
   "metadata": {},
   "source": [
    "## Images Loading and Datasets' Creation"
   ]
  },
  {
   "cell_type": "markdown",
   "id": "eff0f4a9-103f-465c-9bff-eec2ef21d4ba",
   "metadata": {},
   "source": [
    "In this homework,will be built a model for classification an image as a dino or a dragon. Model'll be built and trained on the base \"Dino or Dragon?\" dataset"
   ]
  },
  {
   "cell_type": "code",
   "execution_count": null,
   "id": "be0b76f3-90bc-45f8-9b8c-9f5bcaf3fcf4",
   "metadata": {},
   "outputs": [],
   "source": [
    "url = 'https://github.com/alexeygrigorev/dino-or-dragon/releases/download/data/dino-dragon.zip'\n",
    "filename = 'data.zip'\n",
    "urllib.request.urlretrieve(url, filename)"
   ]
  },
  {
   "cell_type": "code",
   "execution_count": null,
   "id": "9dbac5ba-6a4c-4761-872b-c9daac3a0fed",
   "metadata": {
    "tags": []
   },
   "outputs": [],
   "source": [
    "%%capture\n",
    "! unzip data.zip -d data;"
   ]
  },
  {
   "cell_type": "markdown",
   "id": "4af1b06d-05f5-4cc7-96c4-65392f387ef8",
   "metadata": {},
   "source": [
    "## Building of CNN"
   ]
  },
  {
   "cell_type": "markdown",
   "id": "568712f0-5b10-4660-a8d3-0767b33c690d",
   "metadata": {},
   "source": [
    "It's needed to develop the model with following structure:\n",
    "\n",
    "The shape for input should be (150, 150, 3)   \n",
    "Next, create a convolutional layer (Conv2D):   \n",
    "Use 32 filters   \n",
    "Kernel size should be (3, 3) (that's the size of the filter)   \n",
    "Use 'relu' as activation   \n",
    "Reduce the size of the feature map with max pooling (MaxPooling2D)   \n",
    "Set the pooling size to (2, 2)   \n",
    "Turn the multi-dimensional result into vectors using a Flatten layer   \n",
    "Next, add a Dense layer with 64 neurons and 'relu' activation   \n",
    "Finally, create the Dense layer with 1 neuron - this will be the output   \n",
    "The output layer should have an activation - use the appropriate activation for the binary classification case   \n",
    "As optimizer use SGD with the following parameters:   \n",
    "\n",
    "SGD(lr=0.002, momentum=0.8)"
   ]
  },
  {
   "cell_type": "markdown",
   "id": "fa2efb3f-0809-49aa-a137-a042daf27639",
   "metadata": {
    "tags": []
   },
   "source": [
    "### Question 1:"
   ]
  },
  {
   "cell_type": "markdown",
   "id": "5cedf4db-fae1-4eeb-9472-66d7f73679c4",
   "metadata": {},
   "source": [
    "Since we have a binary classification problem, what is the best loss function for us?"
   ]
  },
  {
   "cell_type": "markdown",
   "id": "f6437e4d-8edd-4a7c-a7a3-78afe6649067",
   "metadata": {},
   "source": [
    "Answer: binary crossentropy"
   ]
  },
  {
   "cell_type": "code",
   "execution_count": 2,
   "id": "0be13a0a-acd0-4aaa-890b-02d8cc7a2c14",
   "metadata": {},
   "outputs": [
    {
     "name": "stderr",
     "output_type": "stream",
     "text": [
      "2022-11-23 16:36:02.626972: I tensorflow/stream_executor/cuda/cuda_gpu_executor.cc:936] successful NUMA node read from SysFS had negative value (-1), but there must be at least one NUMA node, so returning NUMA node zero\n",
      "2022-11-23 16:36:02.639192: I tensorflow/stream_executor/cuda/cuda_gpu_executor.cc:936] successful NUMA node read from SysFS had negative value (-1), but there must be at least one NUMA node, so returning NUMA node zero\n",
      "2022-11-23 16:36:02.641048: I tensorflow/stream_executor/cuda/cuda_gpu_executor.cc:936] successful NUMA node read from SysFS had negative value (-1), but there must be at least one NUMA node, so returning NUMA node zero\n",
      "2022-11-23 16:36:02.643425: I tensorflow/core/platform/cpu_feature_guard.cc:151] This TensorFlow binary is optimized with oneAPI Deep Neural Network Library (oneDNN) to use the following CPU instructions in performance-critical operations:  AVX2 AVX512F FMA\n",
      "To enable them in other operations, rebuild TensorFlow with the appropriate compiler flags.\n",
      "2022-11-23 16:36:02.644488: I tensorflow/stream_executor/cuda/cuda_gpu_executor.cc:936] successful NUMA node read from SysFS had negative value (-1), but there must be at least one NUMA node, so returning NUMA node zero\n",
      "2022-11-23 16:36:02.646271: I tensorflow/stream_executor/cuda/cuda_gpu_executor.cc:936] successful NUMA node read from SysFS had negative value (-1), but there must be at least one NUMA node, so returning NUMA node zero\n",
      "2022-11-23 16:36:02.647982: I tensorflow/stream_executor/cuda/cuda_gpu_executor.cc:936] successful NUMA node read from SysFS had negative value (-1), but there must be at least one NUMA node, so returning NUMA node zero\n",
      "2022-11-23 16:36:03.336239: I tensorflow/stream_executor/cuda/cuda_gpu_executor.cc:936] successful NUMA node read from SysFS had negative value (-1), but there must be at least one NUMA node, so returning NUMA node zero\n",
      "2022-11-23 16:36:03.338286: I tensorflow/stream_executor/cuda/cuda_gpu_executor.cc:936] successful NUMA node read from SysFS had negative value (-1), but there must be at least one NUMA node, so returning NUMA node zero\n",
      "2022-11-23 16:36:03.340054: I tensorflow/stream_executor/cuda/cuda_gpu_executor.cc:936] successful NUMA node read from SysFS had negative value (-1), but there must be at least one NUMA node, so returning NUMA node zero\n",
      "2022-11-23 16:36:03.341797: I tensorflow/core/common_runtime/gpu/gpu_device.cc:1525] Created device /job:localhost/replica:0/task:0/device:GPU:0 with 13598 MB memory:  -> device: 0, name: Tesla T4, pci bus id: 0000:00:04.0, compute capability: 7.5\n"
     ]
    }
   ],
   "source": [
    "input_size = 150\n",
    "model = tf.keras.Sequential()\n",
    "model.add(tf.keras.Input(shape=(input_size, input_size, 3)))\n",
    "model.add(tf.keras.layers.Conv2D(\n",
    "    filters = 32,\n",
    "    kernel_size = (3, 3),\n",
    "    activation = 'relu'))\n",
    "model.add(tf.keras.layers.MaxPool2D(pool_size = (2,2)))\n",
    "model.add(tf.keras.layers.Flatten())\n",
    "model.add(tf.keras.layers.Dense(64, activation='relu'))\n",
    "model.add(tf.keras.layers.Dense(1, activation='sigmoid'))"
   ]
  },
  {
   "cell_type": "code",
   "execution_count": 3,
   "id": "7c8deb7f-f596-4f7b-b8aa-1d04e348e140",
   "metadata": {},
   "outputs": [],
   "source": [
    "tf.random.set_seed(1)"
   ]
  },
  {
   "cell_type": "code",
   "execution_count": 4,
   "id": "73ea1607-ae46-4efd-98da-3c0a9f467ff2",
   "metadata": {},
   "outputs": [],
   "source": [
    "model.build(input_shape=(20, 150, 150, 3))"
   ]
  },
  {
   "cell_type": "code",
   "execution_count": 5,
   "id": "e72e3c85-f719-44dc-9272-49047f0c48f7",
   "metadata": {},
   "outputs": [],
   "source": [
    "optimizer = tf.keras.optimizers.SGD(learning_rate=0.002, momentum=0.8)\n",
    "loss=tf.keras.losses.BinaryCrossentropy()\n",
    "model.compile(\n",
    "    optimizer=optimizer,\n",
    "    loss=loss,\n",
    "    metrics=['accuracy']\n",
    ")"
   ]
  },
  {
   "cell_type": "code",
   "execution_count": 6,
   "id": "54ffb3fa-bfd6-49f3-8b48-96fe7fce9764",
   "metadata": {},
   "outputs": [
    {
     "name": "stdout",
     "output_type": "stream",
     "text": [
      "Model: \"sequential\"\n",
      "_________________________________________________________________\n",
      " Layer (type)                Output Shape              Param #   \n",
      "=================================================================\n",
      " conv2d (Conv2D)             (None, 148, 148, 32)      896       \n",
      "                                                                 \n",
      " max_pooling2d (MaxPooling2D  (None, 74, 74, 32)       0         \n",
      " )                                                               \n",
      "                                                                 \n",
      " flatten (Flatten)           (None, 175232)            0         \n",
      "                                                                 \n",
      " dense (Dense)               (None, 64)                11214912  \n",
      "                                                                 \n",
      " dense_1 (Dense)             (None, 1)                 65        \n",
      "                                                                 \n",
      "=================================================================\n",
      "Total params: 11,215,873\n",
      "Trainable params: 11,215,873\n",
      "Non-trainable params: 0\n",
      "_________________________________________________________________\n"
     ]
    }
   ],
   "source": [
    "model.summary()"
   ]
  },
  {
   "cell_type": "markdown",
   "id": "e40b6421-b7d6-417e-9f07-20f845ddddf9",
   "metadata": {},
   "source": [
    "### Question 2:"
   ]
  },
  {
   "cell_type": "markdown",
   "id": "5354f415-796c-4f75-b492-c7a9668d490e",
   "metadata": {},
   "source": [
    "What's the total number of parameters of the model? You can use the summary method for that."
   ]
  },
  {
   "cell_type": "markdown",
   "id": "2c88ccd2-f12c-437d-a6fa-3159e692314e",
   "metadata": {},
   "source": [
    "Answer: 11215873"
   ]
  },
  {
   "cell_type": "markdown",
   "id": "352795ca-fe5b-4ec9-bb9f-c4474fda47f6",
   "metadata": {},
   "source": [
    "## Datasets generation"
   ]
  },
  {
   "cell_type": "code",
   "execution_count": 7,
   "id": "2b29192c-3b74-48f7-8b13-e9b3dfb5760a",
   "metadata": {},
   "outputs": [],
   "source": [
    "from tensorflow.keras.preprocessing.image import ImageDataGenerator"
   ]
  },
  {
   "cell_type": "code",
   "execution_count": 8,
   "id": "854c334c-cc02-4000-bcad-11b0a4c2b283",
   "metadata": {},
   "outputs": [],
   "source": [
    "train_gen = ImageDataGenerator(rescale=1./255)"
   ]
  },
  {
   "cell_type": "code",
   "execution_count": 9,
   "id": "aa1a22b7-d84a-499d-b000-f54e3e1e3972",
   "metadata": {},
   "outputs": [
    {
     "name": "stdout",
     "output_type": "stream",
     "text": [
      "Found 1594 images belonging to 2 classes.\n"
     ]
    }
   ],
   "source": [
    "train_ds = train_gen.flow_from_directory('./data/train', class_mode='binary', target_size=(150, 150), batch_size=20, shuffle=True)"
   ]
  },
  {
   "cell_type": "code",
   "execution_count": 10,
   "id": "ca8bfc3d-5f3c-43f6-8c5b-c23e8520f18a",
   "metadata": {},
   "outputs": [],
   "source": [
    "test_gen = ImageDataGenerator(rescale=1./255)"
   ]
  },
  {
   "cell_type": "code",
   "execution_count": 11,
   "id": "f76bc7fb-c2b2-4a04-8b65-0c6ab966c617",
   "metadata": {},
   "outputs": [
    {
     "name": "stdout",
     "output_type": "stream",
     "text": [
      "Found 403 images belonging to 2 classes.\n"
     ]
    }
   ],
   "source": [
    "test_ds = test_gen.flow_from_directory('./data/test', class_mode='binary', target_size=(150, 150), batch_size=20, shuffle=True)"
   ]
  },
  {
   "cell_type": "markdown",
   "id": "6b17a785-6872-4b42-8bd2-3cd4d9642072",
   "metadata": {},
   "source": [
    "## Checkpointing"
   ]
  },
  {
   "cell_type": "code",
   "execution_count": 12,
   "id": "c72a0b28-1f1c-4629-b138-f0916295f39a",
   "metadata": {},
   "outputs": [],
   "source": [
    "chechpoint1 = tf.keras.callbacks.ModelCheckpoint(\n",
    "    'model_v1_{epoch:02d}_{val_accuracy:.3f}.h5',\n",
    "    save_best_only=True,\n",
    "    monitor='val_accuracy',\n",
    "    mode='max'\n",
    ")"
   ]
  },
  {
   "cell_type": "markdown",
   "id": "ab26d17f-4698-4ccd-acd3-fd0dda540823",
   "metadata": {},
   "source": [
    "## Training"
   ]
  },
  {
   "cell_type": "code",
   "execution_count": 13,
   "id": "29535fd0-4b09-4bb7-b256-390760265c05",
   "metadata": {},
   "outputs": [
    {
     "name": "stdout",
     "output_type": "stream",
     "text": [
      "Epoch 1/10\n"
     ]
    },
    {
     "name": "stderr",
     "output_type": "stream",
     "text": [
      "2022-11-23 16:36:47.947893: I tensorflow/stream_executor/cuda/cuda_dnn.cc:368] Loaded cuDNN version 8200\n"
     ]
    },
    {
     "name": "stdout",
     "output_type": "stream",
     "text": [
      "80/80 [==============================] - 11s 111ms/step - loss: 0.5942 - accuracy: 0.6807 - val_loss: 0.4613 - val_accuracy: 0.8387\n",
      "Epoch 2/10\n",
      "80/80 [==============================] - 9s 111ms/step - loss: 0.4399 - accuracy: 0.8030 - val_loss: 0.5407 - val_accuracy: 0.6749\n",
      "Epoch 3/10\n",
      "80/80 [==============================] - 9s 106ms/step - loss: 0.3774 - accuracy: 0.8438 - val_loss: 0.3558 - val_accuracy: 0.8536\n",
      "Epoch 4/10\n",
      "80/80 [==============================] - 8s 105ms/step - loss: 0.3313 - accuracy: 0.8651 - val_loss: 0.3636 - val_accuracy: 0.8462\n",
      "Epoch 5/10\n",
      "80/80 [==============================] - 8s 106ms/step - loss: 0.3043 - accuracy: 0.8726 - val_loss: 0.3571 - val_accuracy: 0.8263\n",
      "Epoch 6/10\n",
      "80/80 [==============================] - 8s 105ms/step - loss: 0.2792 - accuracy: 0.8902 - val_loss: 0.4547 - val_accuracy: 0.7816\n",
      "Epoch 7/10\n",
      "80/80 [==============================] - 8s 106ms/step - loss: 0.2472 - accuracy: 0.9059 - val_loss: 0.4689 - val_accuracy: 0.7965\n",
      "Epoch 8/10\n",
      "80/80 [==============================] - 8s 106ms/step - loss: 0.2788 - accuracy: 0.8814 - val_loss: 0.2891 - val_accuracy: 0.8883\n",
      "Epoch 9/10\n",
      "80/80 [==============================] - 9s 110ms/step - loss: 0.2088 - accuracy: 0.9310 - val_loss: 0.2916 - val_accuracy: 0.8809\n",
      "Epoch 10/10\n",
      "80/80 [==============================] - 8s 105ms/step - loss: 0.1874 - accuracy: 0.9354 - val_loss: 0.2794 - val_accuracy: 0.8834\n"
     ]
    }
   ],
   "source": [
    "hist = model.fit(\n",
    "    train_ds,\n",
    "    epochs=10,\n",
    "    validation_data=test_ds,\n",
    "    callbacks=[chechpoint1]\n",
    ")"
   ]
  },
  {
   "cell_type": "markdown",
   "id": "f200b1bb-e2ce-4ede-a048-550c0ef10c36",
   "metadata": {},
   "source": [
    "### Question 3:"
   ]
  },
  {
   "cell_type": "markdown",
   "id": "bc1aa2f3-7967-44e8-b064-697414470dc5",
   "metadata": {},
   "source": [
    "What is the median of training accuracy for all the epochs for this model?"
   ]
  },
  {
   "cell_type": "code",
   "execution_count": 14,
   "id": "821db9d5-52e0-4148-b717-2f987d906f10",
   "metadata": {},
   "outputs": [
    {
     "data": {
      "text/plain": [
       "[0.6806775331497192,\n",
       " 0.8030112981796265,\n",
       " 0.8437892198562622,\n",
       " 0.865119218826294,\n",
       " 0.8726474046707153,\n",
       " 0.8902133107185364,\n",
       " 0.9058971405029297,\n",
       " 0.8814303874969482,\n",
       " 0.9309912323951721,\n",
       " 0.9353826642036438]"
      ]
     },
     "execution_count": 14,
     "metadata": {},
     "output_type": "execute_result"
    }
   ],
   "source": [
    "hist.history['accuracy']"
   ]
  },
  {
   "cell_type": "code",
   "execution_count": 15,
   "id": "ae0d06f6-90c8-43d5-ac15-e590aed0e167",
   "metadata": {},
   "outputs": [
    {
     "data": {
      "text/plain": [
       "0.8770388960838318"
      ]
     },
     "execution_count": 15,
     "metadata": {},
     "output_type": "execute_result"
    }
   ],
   "source": [
    "np.median(hist.history['accuracy'])"
   ]
  },
  {
   "cell_type": "markdown",
   "id": "d7e636ad-31bd-415f-adda-11530bcd2249",
   "metadata": {},
   "source": [
    "Answer: 0.9 (the clothest)"
   ]
  },
  {
   "cell_type": "markdown",
   "id": "39c71802-e3b1-4de1-83b9-000f0b658841",
   "metadata": {},
   "source": [
    "### Question 4:"
   ]
  },
  {
   "cell_type": "markdown",
   "id": "aed470dd-9e76-4bec-969c-748bb0bffd32",
   "metadata": {},
   "source": [
    "What is the standard deviation of training loss for all the epochs for this model?"
   ]
  },
  {
   "cell_type": "code",
   "execution_count": 16,
   "id": "6f87fc76-8075-4b01-98e4-cd34eceec135",
   "metadata": {},
   "outputs": [
    {
     "data": {
      "text/plain": [
       "[0.5942058563232422,\n",
       " 0.43988141417503357,\n",
       " 0.37738052010536194,\n",
       " 0.33132514357566833,\n",
       " 0.30434074997901917,\n",
       " 0.27923184633255005,\n",
       " 0.24715425074100494,\n",
       " 0.27883100509643555,\n",
       " 0.20875433087348938,\n",
       " 0.18743589520454407]"
      ]
     },
     "execution_count": 16,
     "metadata": {},
     "output_type": "execute_result"
    }
   ],
   "source": [
    "hist.history['loss']"
   ]
  },
  {
   "cell_type": "code",
   "execution_count": 17,
   "id": "7bc9487e-055e-491e-845a-518e671cdc24",
   "metadata": {},
   "outputs": [
    {
     "data": {
      "text/plain": [
       "0.11471837239665174"
      ]
     },
     "execution_count": 17,
     "metadata": {},
     "output_type": "execute_result"
    }
   ],
   "source": [
    "np.std(hist.history['loss'])"
   ]
  },
  {
   "cell_type": "markdown",
   "id": "2998f57a-acee-4021-a1c3-e68f77d2f1df",
   "metadata": {},
   "source": [
    "Answer: 0.1 (the clothest)"
   ]
  },
  {
   "cell_type": "markdown",
   "id": "2bc074b6-86dc-4f9e-b5e2-4edd406b41d3",
   "metadata": {},
   "source": [
    "## Applying data augmentation"
   ]
  },
  {
   "cell_type": "code",
   "execution_count": 18,
   "id": "7f821975-f09a-491a-9278-dff955dba365",
   "metadata": {},
   "outputs": [],
   "source": [
    "train_gen_a = ImageDataGenerator(\n",
    "    rescale=1./255,\n",
    "    rotation_range=40,\n",
    "    width_shift_range=0.2,\n",
    "    height_shift_range=0.2,\n",
    "    shear_range=0.2,\n",
    "    zoom_range=0.2,\n",
    "    horizontal_flip=True,\n",
    "    fill_mode='nearest'\n",
    ")"
   ]
  },
  {
   "cell_type": "code",
   "execution_count": 19,
   "id": "88c42080-909a-4331-b23c-19dee89e4708",
   "metadata": {},
   "outputs": [
    {
     "name": "stdout",
     "output_type": "stream",
     "text": [
      "Found 1594 images belonging to 2 classes.\n"
     ]
    }
   ],
   "source": [
    "train_ds_aug = train_gen_a.flow_from_directory('./data/train', class_mode='binary', target_size=(150, 150), batch_size=20, shuffle=True)"
   ]
  },
  {
   "cell_type": "code",
   "execution_count": 20,
   "id": "6d578e5b-a43e-413a-b0f0-5f76a9ad8072",
   "metadata": {},
   "outputs": [],
   "source": [
    "chechpoint2 = tf.keras.callbacks.ModelCheckpoint(\n",
    "    'model_v2_{epoch:02d}_{val_accuracy:.3f}.h5',\n",
    "    save_best_only=True,\n",
    "    monitor='val_accuracy',\n",
    "    mode='max'\n",
    ")"
   ]
  },
  {
   "cell_type": "code",
   "execution_count": 21,
   "id": "406ce870-7b5b-4635-9985-2f21f0b6c7a4",
   "metadata": {},
   "outputs": [
    {
     "name": "stdout",
     "output_type": "stream",
     "text": [
      "Epoch 1/10\n",
      "80/80 [==============================] - 15s 191ms/step - loss: 0.4587 - accuracy: 0.7942 - val_loss: 0.2646 - val_accuracy: 0.8908\n",
      "Epoch 2/10\n",
      "80/80 [==============================] - 15s 183ms/step - loss: 0.4432 - accuracy: 0.8055 - val_loss: 0.3126 - val_accuracy: 0.8660\n",
      "Epoch 3/10\n",
      "80/80 [==============================] - 15s 183ms/step - loss: 0.4217 - accuracy: 0.8018 - val_loss: 0.7512 - val_accuracy: 0.6725\n",
      "Epoch 4/10\n",
      "80/80 [==============================] - 15s 183ms/step - loss: 0.4099 - accuracy: 0.8112 - val_loss: 0.2796 - val_accuracy: 0.8759\n",
      "Epoch 5/10\n",
      "80/80 [==============================] - 15s 187ms/step - loss: 0.3809 - accuracy: 0.8306 - val_loss: 0.7027 - val_accuracy: 0.7345\n",
      "Epoch 6/10\n",
      "80/80 [==============================] - 15s 184ms/step - loss: 0.3840 - accuracy: 0.8319 - val_loss: 1.3624 - val_accuracy: 0.5459\n",
      "Epoch 7/10\n",
      "80/80 [==============================] - 15s 183ms/step - loss: 0.3706 - accuracy: 0.8338 - val_loss: 0.3786 - val_accuracy: 0.8387\n",
      "Epoch 8/10\n",
      "80/80 [==============================] - 15s 183ms/step - loss: 0.3516 - accuracy: 0.8381 - val_loss: 0.3820 - val_accuracy: 0.8486\n",
      "Epoch 9/10\n",
      "80/80 [==============================] - 15s 188ms/step - loss: 0.3613 - accuracy: 0.8469 - val_loss: 0.4596 - val_accuracy: 0.8089\n",
      "Epoch 10/10\n",
      "80/80 [==============================] - 15s 186ms/step - loss: 0.3532 - accuracy: 0.8463 - val_loss: 0.3960 - val_accuracy: 0.8288\n"
     ]
    }
   ],
   "source": [
    "hist2 = model.fit(\n",
    "    train_ds_aug,\n",
    "    epochs=10,\n",
    "    validation_data=test_ds,\n",
    "    callbacks=[chechpoint2]\n",
    ")"
   ]
  },
  {
   "cell_type": "markdown",
   "id": "1fb79154-ae1a-4c4e-b01c-7eca232b4abe",
   "metadata": {},
   "source": [
    "### Question 5:"
   ]
  },
  {
   "cell_type": "markdown",
   "id": "67d79459-0031-40f2-ba85-bef91843de30",
   "metadata": {},
   "source": [
    "What is the mean of test loss for all the epochs for the model trained with augmentations?"
   ]
  },
  {
   "cell_type": "code",
   "execution_count": 22,
   "id": "c47a1a3c-d86e-4e63-9a02-37d797d8ccf6",
   "metadata": {},
   "outputs": [
    {
     "name": "stdout",
     "output_type": "stream",
     "text": [
      "[0.46134892 0.54074633 0.35577878 0.36359683 0.35711935 0.45470327\n",
      " 0.46887413 0.28906086 0.29163092 0.27936909]\n",
      "[0.26463211 0.31259823 0.75121182 0.27956259 0.70272022 1.36235809\n",
      " 0.37859076 0.38196722 0.45956999 0.39600256]\n"
     ]
    }
   ],
   "source": [
    "s1 = np.array(hist.history['val_loss'])\n",
    "s2 = np.array(hist2.history['val_loss'])\n",
    "print(s1)\n",
    "print(s2)"
   ]
  },
  {
   "cell_type": "code",
   "execution_count": 23,
   "id": "96934d42-adae-4fe9-93d6-8632edbd6d24",
   "metadata": {},
   "outputs": [
    {
     "data": {
      "text/plain": [
       "0.45757210403680804"
      ]
     },
     "execution_count": 23,
     "metadata": {},
     "output_type": "execute_result"
    }
   ],
   "source": [
    "np.mean(np.append(s1, s2))"
   ]
  },
  {
   "cell_type": "markdown",
   "id": "15470d7b-559d-4b5d-93cf-6c16ed05dae3",
   "metadata": {},
   "source": [
    "Answer: 0.37 (the clothest)"
   ]
  },
  {
   "cell_type": "markdown",
   "id": "0ab7cf01-7fc3-432e-b7aa-d4c1a2cac963",
   "metadata": {},
   "source": [
    "### Question 6:"
   ]
  },
  {
   "cell_type": "markdown",
   "id": "19ed7c3e-8ba6-4c42-9adf-d1693bfce8e7",
   "metadata": {},
   "source": [
    "What's the average of test accuracy for the last 5 epochs (from 6 to 10) for the model trained with augmentations?"
   ]
  },
  {
   "cell_type": "code",
   "execution_count": 24,
   "id": "cd8a7d50-2e05-48d6-88d9-d769da4cdac2",
   "metadata": {},
   "outputs": [
    {
     "name": "stdout",
     "output_type": "stream",
     "text": [
      "[0.83870965 0.67493796 0.853598   0.84615386 0.82630271 0.78163773\n",
      " 0.79652607 0.88833749 0.88089329 0.88337469]\n",
      "[0.89081883 0.86600494 0.67245656 0.87593055 0.73449129 0.54590571\n",
      " 0.83870965 0.84863526 0.80893302 0.82878411]\n"
     ]
    }
   ],
   "source": [
    "s1 = np.array(hist.history['val_accuracy'])\n",
    "s2 = np.array(hist2.history['val_accuracy'])\n",
    "print(s1)\n",
    "print(s2)"
   ]
  },
  {
   "cell_type": "code",
   "execution_count": 25,
   "id": "134983af-7df1-4cea-9d9e-db19f300d731",
   "metadata": {},
   "outputs": [
    {
     "data": {
      "text/plain": [
       "0.809057068824768"
      ]
     },
     "execution_count": 25,
     "metadata": {},
     "output_type": "execute_result"
    }
   ],
   "source": [
    "np.average(np.append(s1, s2))"
   ]
  },
  {
   "cell_type": "markdown",
   "id": "134f4e55-6809-4b18-b676-c043057fd461",
   "metadata": {},
   "source": [
    "Answer: 0.84 (the clothest)"
   ]
  },
  {
   "cell_type": "markdown",
   "id": "c474c7eb-7864-4a4b-9b96-9151fcbd12fe",
   "metadata": {},
   "source": [
    "## Using model"
   ]
  },
  {
   "cell_type": "code",
   "execution_count": 26,
   "id": "dd0e4324-ef96-4582-84cd-80d191252190",
   "metadata": {},
   "outputs": [],
   "source": [
    "import numpy as np\n",
    "from tensorflow.keras.preprocessing.image import load_img"
   ]
  },
  {
   "cell_type": "markdown",
   "id": "b1b7a396-da40-4cb6-8a60-44b12cd94239",
   "metadata": {},
   "source": [
    "Load the model with the highest accuracy"
   ]
  },
  {
   "cell_type": "code",
   "execution_count": 28,
   "id": "f0beba80-beac-4ad6-8f88-0be360574b77",
   "metadata": {},
   "outputs": [],
   "source": [
    "model_best = tf.keras.models.load_model('model_v2_01_0.891.h5')"
   ]
  },
  {
   "cell_type": "markdown",
   "id": "6686cf04-10d7-4450-9235-9c67357edd0e",
   "metadata": {},
   "source": [
    "Load an image with dino"
   ]
  },
  {
   "cell_type": "code",
   "execution_count": 39,
   "id": "471afdc6-8810-42b7-8267-3009866071ee",
   "metadata": {},
   "outputs": [],
   "source": [
    "path = 'data/test/dino/0d50f95a-8a4c-4712-8187-2f4008fd6241.jpg'"
   ]
  },
  {
   "cell_type": "code",
   "execution_count": 40,
   "id": "47d44f28-d2e1-44f9-930d-8e91b04f09d1",
   "metadata": {},
   "outputs": [
    {
     "data": {
      "image/png": "[encoded data removed]",
      "text/plain": [
       "<PIL.Image.Image image mode=RGB size=150x150>"
      ]
     },
     "execution_count": 40,
     "metadata": {},
     "output_type": "execute_result"
    }
   ],
   "source": [
    "img = load_img(path, target_size=(150, 150))\n",
    "img"
   ]
  },
  {
   "cell_type": "code",
   "execution_count": 41,
   "id": "3904c664-d6b1-432e-863c-74c2074281c4",
   "metadata": {},
   "outputs": [
    {
     "name": "stdout",
     "output_type": "stream",
     "text": [
      "dino\n"
     ]
    }
   ],
   "source": [
    "x = np.array(img)\n",
    "X = np.array([x])\n",
    "pred = model_best.predict(X)\n",
    "if pred[0][0] <= 0.5:\n",
    "    print('dino')\n",
    "else:\n",
    "    print('dragon')"
   ]
  },
  {
   "cell_type": "markdown",
   "id": "f249ba29-90e0-411b-acb0-dc2001ba9953",
   "metadata": {},
   "source": [
    "Load an image with dragon"
   ]
  },
  {
   "cell_type": "code",
   "execution_count": 42,
   "id": "ef3a0729-445a-4142-b016-18fc67ee0d01",
   "metadata": {},
   "outputs": [],
   "source": [
    "path = 'data/test/dragon/1e07914f-530e-4087-a377-cded306c360c.jpg'"
   ]
  },
  {
   "cell_type": "code",
   "execution_count": 43,
   "id": "59ad584a-0f91-420d-88cd-a1de40499190",
   "metadata": {},
   "outputs": [],
   "source": [
    "img = load_img(path, target_size=(150, 150))"
   ]
  },
  {
   "cell_type": "code",
   "execution_count": 44,
   "id": "0c25a73f-4d90-4790-8308-264cee0b254d",
   "metadata": {},
   "outputs": [
    {
     "name": "stdout",
     "output_type": "stream",
     "text": [
      "dragon\n"
     ]
    }
   ],
   "source": [
    "x = np.array(img)\n",
    "X = np.array([x])\n",
    "pred = model_best.predict(X)\n",
    "if pred[0][0] <= 0.5:\n",
    "    print('dino')\n",
    "else:\n",
    "    print('dragon')"
   ]
  }
 ],
 "metadata": {
  "environment": {
   "kernel": "python3",
   "name": "tf2-gpu.2-8.m100",
   "type": "gcloud",
   "uri": "gcr.io/deeplearning-platform-release/tf2-gpu.2-8:m100"
  },
  "kernelspec": {
   "display_name": "Python 3",
   "language": "python",
   "name": "python3"
  },
  "language_info": {
   "codemirror_mode": {
    "name": "ipython",
    "version": 3
   },
   "file_extension": ".py",
   "mimetype": "text/x-python",
   "name": "python",
   "nbconvert_exporter": "python",
   "pygments_lexer": "ipython3",
   "version": "3.7.12"
  }
 },
 "nbformat": 4,
 "nbformat_minor": 5
}
